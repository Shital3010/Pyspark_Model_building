{
 "cells": [
  {
   "cell_type": "markdown",
   "metadata": {},
   "source": [
    "# Importing important libraries"
   ]
  },
  {
   "cell_type": "code",
   "execution_count": 1,
   "metadata": {},
   "outputs": [],
   "source": [
    "import pyspark\n",
    "from pyspark.sql import SparkSession #connecting session\n",
    "\n",
    "from pyspark.sql.functions import *\n",
    "from pyspark.sql.functions import isnan, isnull , when, count  #identifying number of null values\n",
    "from pyspark.sql.functions import trim  #remove extra spaces from statement\n",
    "from pyspark.sql.functions import lower # bring all string in lower case\n",
    "#from pyspark.sql.functions import format_number ## same like format and rounding of in pandas\n",
    "\n",
    "from pyspark.sql.types import IntegerType, DoubleType,StringType # changing datatype of the variable\n",
    "\n",
    "from pyspark.ml.feature import StringIndexer # converting string category into numbers ( same like label encoder)\n",
    "from pyspark.ml.feature import VectorAssembler # selecting all independent variable and making a list\n",
    "\n",
    "from pyspark.ml.classification import GBTClassifier # xgb classifier\n",
    "from pyspark.ml.classification import RandomForestClassifier # random forest classifier\n",
    "\n",
    "from pyspark.ml.evaluation import BinaryClassificationEvaluator # model evaluation library\n",
    "##from pyspark.ml.evaluation import MulticlassClassificationEvaluator"
   ]
  },
  {
   "cell_type": "markdown",
   "metadata": {},
   "source": [
    "# Spark session building"
   ]
  },
  {
   "cell_type": "code",
   "execution_count": 2,
   "metadata": {},
   "outputs": [],
   "source": [
    "spark = SparkSession.builder.appName('modelbuilding').getOrCreate()"
   ]
  },
  {
   "cell_type": "markdown",
   "metadata": {},
   "source": [
    "# Reading dataset (importing)"
   ]
  },
  {
   "cell_type": "code",
   "execution_count": 3,
   "metadata": {},
   "outputs": [],
   "source": [
    "# df = spark.read.option(\"header\", \"true\") \\\n",
    "#     .option(\"delimiter\", \"|\") \\\n",
    "#     .option(\"inferSchema\", \"true\") \\\n",
    "#     .csv('G:\\\\HFL_base_other_investment_targets.csv')\n",
    "#orrrrr\n",
    "\n",
    "df = spark.read.csv('G:\\\\data.csv', inferSchema=True, header=True)"
   ]
  },
  {
   "cell_type": "code",
   "execution_count": 4,
   "metadata": {},
   "outputs": [
    {
     "name": "stdout",
     "output_type": "stream",
     "text": [
      "+------+------+------+-------------+--------------+-----------------------+----------------------+---------------------+----------------+-----------------+--------------+-------------------------+-----------------+-------+-------+--------+----+------+----+\n",
      "|   tag|gender|tenure|interest_rate|sanctionamount|first_disbursement_date|last_Disbursement_date|sum_Disubursement_amt|overdue_interest|overdue_principal|bounce_charges|principal_Outstanding_amt|no_of_loan_counts|vintage|recency|  Status| Age|Target|uniq|\n",
      "+------+------+------+-------------+--------------+-----------------------+----------------------+---------------------+----------------+-----------------+--------------+-------------------------+-----------------+-------+-------+--------+----+------+----+\n",
      "|online|  NULL|  37.0|         23.0|      100000.0|              4/27/2017|              5/5/2020|             100073.0|             0.0|              0.0|           0.0|                      0.0|              1.0|    5.0|    2.0|INACTIVE|42.0|     0|   0|\n",
      "+------+------+------+-------------+--------------+-----------------------+----------------------+---------------------+----------------+-----------------+--------------+-------------------------+-----------------+-------+-------+--------+----+------+----+\n",
      "only showing top 1 row\n",
      "\n"
     ]
    }
   ],
   "source": [
    "df.show(1) #, truncate=False)"
   ]
  },
  {
   "cell_type": "markdown",
   "metadata": {},
   "source": [
    "# checking variables and their types"
   ]
  },
  {
   "cell_type": "code",
   "execution_count": 5,
   "metadata": {},
   "outputs": [
    {
     "name": "stdout",
     "output_type": "stream",
     "text": [
      "root\n",
      " |-- tag: string (nullable = true)\n",
      " |-- gender: string (nullable = true)\n",
      " |-- tenure: double (nullable = true)\n",
      " |-- interest_rate: double (nullable = true)\n",
      " |-- sanctionamount: double (nullable = true)\n",
      " |-- first_disbursement_date: string (nullable = true)\n",
      " |-- last_Disbursement_date: string (nullable = true)\n",
      " |-- sum_Disubursement_amt: double (nullable = true)\n",
      " |-- overdue_interest: double (nullable = true)\n",
      " |-- overdue_principal: double (nullable = true)\n",
      " |-- bounce_charges: double (nullable = true)\n",
      " |-- principal_Outstanding_amt: double (nullable = true)\n",
      " |-- no_of_loan_counts: double (nullable = true)\n",
      " |-- vintage: double (nullable = true)\n",
      " |-- recency: double (nullable = true)\n",
      " |-- Status: string (nullable = true)\n",
      " |-- Age: double (nullable = true)\n",
      " |-- Target: integer (nullable = true)\n",
      " |-- uniq: integer (nullable = true)\n",
      "\n"
     ]
    }
   ],
   "source": [
    "df.printSchema()"
   ]
  },
  {
   "cell_type": "markdown",
   "metadata": {},
   "source": [
    "# fetching number of rows and column"
   ]
  },
  {
   "cell_type": "code",
   "execution_count": 7,
   "metadata": {},
   "outputs": [
    {
     "name": "stdout",
     "output_type": "stream",
     "text": [
      "total records :  457890\n",
      "total distinct records :  457890\n",
      "number of columns :  19\n",
      "distinct number of customers :  457890\n"
     ]
    }
   ],
   "source": [
    "print('total records : ' ,df.count()) #total rows\n",
    "print('total distinct records : ',df.distinct().count()) #total distinct rows\n",
    "print ('number of columns : ', len(df.columns))\n",
    "print( 'distinct number of customers : ',df.select(['uniq']).distinct().count()) \n",
    "#total distinct customer since it is the uniqueness"
   ]
  },
  {
   "cell_type": "markdown",
   "metadata": {},
   "source": [
    "# column names"
   ]
  },
  {
   "cell_type": "code",
   "execution_count": 8,
   "metadata": {},
   "outputs": [
    {
     "data": {
      "text/plain": [
       "['tag',\n",
       " 'gender',\n",
       " 'tenure',\n",
       " 'interest_rate',\n",
       " 'sanctionamount',\n",
       " 'first_disbursement_date',\n",
       " 'last_Disbursement_date',\n",
       " 'sum_Disubursement_amt',\n",
       " 'overdue_interest',\n",
       " 'overdue_principal',\n",
       " 'bounce_charges',\n",
       " 'principal_Outstanding_amt',\n",
       " 'no_of_loan_counts',\n",
       " 'vintage',\n",
       " 'recency',\n",
       " 'Status',\n",
       " 'Age',\n",
       " 'Target',\n",
       " 'uniq']"
      ]
     },
     "execution_count": 8,
     "metadata": {},
     "output_type": "execute_result"
    }
   ],
   "source": [
    "df.columns"
   ]
  },
  {
   "cell_type": "markdown",
   "metadata": {},
   "source": [
    "# seeing data head"
   ]
  },
  {
   "cell_type": "code",
   "execution_count": 9,
   "metadata": {},
   "outputs": [
    {
     "data": {
      "text/html": [
       "<div>\n",
       "<style scoped>\n",
       "    .dataframe tbody tr th:only-of-type {\n",
       "        vertical-align: middle;\n",
       "    }\n",
       "\n",
       "    .dataframe tbody tr th {\n",
       "        vertical-align: top;\n",
       "    }\n",
       "\n",
       "    .dataframe thead th {\n",
       "        text-align: right;\n",
       "    }\n",
       "</style>\n",
       "<table border=\"1\" class=\"dataframe\">\n",
       "  <thead>\n",
       "    <tr style=\"text-align: right;\">\n",
       "      <th></th>\n",
       "      <th>tag</th>\n",
       "      <th>gender</th>\n",
       "      <th>tenure</th>\n",
       "      <th>interest_rate</th>\n",
       "      <th>sanctionamount</th>\n",
       "      <th>first_disbursement_date</th>\n",
       "      <th>last_Disbursement_date</th>\n",
       "      <th>sum_Disubursement_amt</th>\n",
       "      <th>overdue_interest</th>\n",
       "      <th>overdue_principal</th>\n",
       "      <th>bounce_charges</th>\n",
       "      <th>principal_Outstanding_amt</th>\n",
       "      <th>no_of_loan_counts</th>\n",
       "      <th>vintage</th>\n",
       "      <th>recency</th>\n",
       "      <th>Status</th>\n",
       "      <th>Age</th>\n",
       "      <th>Target</th>\n",
       "      <th>uniq</th>\n",
       "    </tr>\n",
       "  </thead>\n",
       "  <tbody>\n",
       "    <tr>\n",
       "      <th>0</th>\n",
       "      <td>online</td>\n",
       "      <td>None</td>\n",
       "      <td>37.0</td>\n",
       "      <td>23.0</td>\n",
       "      <td>100000.0</td>\n",
       "      <td>4/27/2017</td>\n",
       "      <td>5/5/2020</td>\n",
       "      <td>100073.0</td>\n",
       "      <td>0.0</td>\n",
       "      <td>0.0</td>\n",
       "      <td>0.0</td>\n",
       "      <td>0.0</td>\n",
       "      <td>1.0</td>\n",
       "      <td>5.0</td>\n",
       "      <td>2.0</td>\n",
       "      <td>INACTIVE</td>\n",
       "      <td>42.0</td>\n",
       "      <td>0</td>\n",
       "      <td>0</td>\n",
       "    </tr>\n",
       "    <tr>\n",
       "      <th>1</th>\n",
       "      <td>online</td>\n",
       "      <td>M</td>\n",
       "      <td>6.0</td>\n",
       "      <td>0.0</td>\n",
       "      <td>10400.0</td>\n",
       "      <td>7/7/2017</td>\n",
       "      <td>7/7/2017</td>\n",
       "      <td>10400.0</td>\n",
       "      <td>0.0</td>\n",
       "      <td>0.0</td>\n",
       "      <td>0.0</td>\n",
       "      <td>0.0</td>\n",
       "      <td>1.0</td>\n",
       "      <td>5.0</td>\n",
       "      <td>5.0</td>\n",
       "      <td>INACTIVE</td>\n",
       "      <td>55.0</td>\n",
       "      <td>0</td>\n",
       "      <td>1</td>\n",
       "    </tr>\n",
       "    <tr>\n",
       "      <th>2</th>\n",
       "      <td>online</td>\n",
       "      <td>M</td>\n",
       "      <td>6.0</td>\n",
       "      <td>36.0</td>\n",
       "      <td>15000.0</td>\n",
       "      <td>8/17/2022</td>\n",
       "      <td>8/17/2022</td>\n",
       "      <td>15000.0</td>\n",
       "      <td>0.0</td>\n",
       "      <td>0.0</td>\n",
       "      <td>2.0</td>\n",
       "      <td>0.0</td>\n",
       "      <td>1.0</td>\n",
       "      <td>0.0</td>\n",
       "      <td>0.0</td>\n",
       "      <td>INACTIVE</td>\n",
       "      <td>36.0</td>\n",
       "      <td>0</td>\n",
       "      <td>2</td>\n",
       "    </tr>\n",
       "  </tbody>\n",
       "</table>\n",
       "</div>"
      ],
      "text/plain": [
       "      tag gender  tenure  interest_rate  sanctionamount  \\\n",
       "0  online   None    37.0           23.0        100000.0   \n",
       "1  online      M     6.0            0.0         10400.0   \n",
       "2  online      M     6.0           36.0         15000.0   \n",
       "\n",
       "  first_disbursement_date last_Disbursement_date  sum_Disubursement_amt  \\\n",
       "0               4/27/2017               5/5/2020               100073.0   \n",
       "1                7/7/2017               7/7/2017                10400.0   \n",
       "2               8/17/2022              8/17/2022                15000.0   \n",
       "\n",
       "   overdue_interest  overdue_principal  bounce_charges  \\\n",
       "0               0.0                0.0             0.0   \n",
       "1               0.0                0.0             0.0   \n",
       "2               0.0                0.0             2.0   \n",
       "\n",
       "   principal_Outstanding_amt  no_of_loan_counts  vintage  recency    Status  \\\n",
       "0                        0.0                1.0      5.0      2.0  INACTIVE   \n",
       "1                        0.0                1.0      5.0      5.0  INACTIVE   \n",
       "2                        0.0                1.0      0.0      0.0  INACTIVE   \n",
       "\n",
       "    Age  Target  uniq  \n",
       "0  42.0       0     0  \n",
       "1  55.0       0     1  \n",
       "2  36.0       0     2  "
      ]
     },
     "execution_count": 9,
     "metadata": {},
     "output_type": "execute_result"
    }
   ],
   "source": [
    "df.toPandas().head(3)"
   ]
  },
  {
   "cell_type": "markdown",
   "metadata": {},
   "source": [
    "# trim & lower case function"
   ]
  },
  {
   "cell_type": "code",
   "execution_count": 10,
   "metadata": {},
   "outputs": [],
   "source": [
    "df = df.withColumn(\"gender\", trim(lower(df[\"gender\"])))\n",
    "df = df.withColumn(\"tag\", trim(lower(df[\"tag\"])))\n",
    "df = df.withColumn(\"Status\", trim(lower(df[\"Status\"])))"
   ]
  },
  {
   "cell_type": "markdown",
   "metadata": {},
   "source": [
    "# getting distinct number of categories of variables"
   ]
  },
  {
   "cell_type": "code",
   "execution_count": 11,
   "metadata": {},
   "outputs": [
    {
     "name": "stdout",
     "output_type": "stream",
     "text": [
      "2\n",
      "7\n",
      "3\n"
     ]
    }
   ],
   "source": [
    "print(df.select('tag').distinct().count())\n",
    "print(df.select('gender').distinct().count())\n",
    "print(df.select('Status').distinct().count())"
   ]
  },
  {
   "cell_type": "markdown",
   "metadata": {},
   "source": [
    "# getting distinct name of categories of variables"
   ]
  },
  {
   "cell_type": "code",
   "execution_count": 12,
   "metadata": {},
   "outputs": [
    {
     "name": "stdout",
     "output_type": "stream",
     "text": [
      "+------+\n",
      "|   tag|\n",
      "+------+\n",
      "|online|\n",
      "|offlin|\n",
      "+------+\n",
      "\n",
      "None\n",
      "+------+\n",
      "|gender|\n",
      "+------+\n",
      "|     m|\n",
      "|     f|\n",
      "| other|\n",
      "|others|\n",
      "|female|\n",
      "|  male|\n",
      "|  NULL|\n",
      "+------+\n",
      "\n",
      "None\n",
      "+--------+\n",
      "|  Status|\n",
      "+--------+\n",
      "|  active|\n",
      "|inactive|\n",
      "|    NULL|\n",
      "+--------+\n",
      "\n",
      "None\n"
     ]
    }
   ],
   "source": [
    "print(df.select('tag').distinct().show())\n",
    "print(df.select('gender').distinct().show())\n",
    "print(df.select('Status').distinct().show())"
   ]
  },
  {
   "cell_type": "markdown",
   "metadata": {},
   "source": [
    "# getting distinct category names and their counts"
   ]
  },
  {
   "cell_type": "code",
   "execution_count": 13,
   "metadata": {},
   "outputs": [
    {
     "name": "stdout",
     "output_type": "stream",
     "text": [
      "+------+------+\n",
      "|gender| count|\n",
      "+------+------+\n",
      "|     m|301962|\n",
      "|  NULL| 61903|\n",
      "|     f| 45179|\n",
      "| other|     3|\n",
      "|others|     1|\n",
      "|female|  7887|\n",
      "|  male| 40955|\n",
      "+------+------+\n",
      "\n"
     ]
    }
   ],
   "source": [
    "df.groupBy('gender').count().show()"
   ]
  },
  {
   "cell_type": "code",
   "execution_count": 14,
   "metadata": {},
   "outputs": [
    {
     "name": "stdout",
     "output_type": "stream",
     "text": [
      "+------+------+\n",
      "|   tag| count|\n",
      "+------+------+\n",
      "|online|356204|\n",
      "|offlin|101686|\n",
      "+------+------+\n",
      "\n"
     ]
    }
   ],
   "source": [
    "df.groupBy('tag').count().show()"
   ]
  },
  {
   "cell_type": "code",
   "execution_count": 15,
   "metadata": {},
   "outputs": [
    {
     "name": "stdout",
     "output_type": "stream",
     "text": [
      "+--------+------+\n",
      "|  Status| count|\n",
      "+--------+------+\n",
      "|    NULL|   156|\n",
      "|  active|328904|\n",
      "|inactive|128830|\n",
      "+--------+------+\n",
      "\n"
     ]
    }
   ],
   "source": [
    "df.groupBy('Status').count().show()\n",
    "\n",
    "#df.select('Status').distinct().show()"
   ]
  },
  {
   "cell_type": "markdown",
   "metadata": {},
   "source": [
    "# Null values and their percentage"
   ]
  },
  {
   "cell_type": "markdown",
   "metadata": {},
   "source": [
    "number of missing values"
   ]
  },
  {
   "cell_type": "code",
   "execution_count": 16,
   "metadata": {},
   "outputs": [
    {
     "name": "stdout",
     "output_type": "stream",
     "text": [
      "-RECORD 0--------------------------\n",
      " tag                       | 0     \n",
      " gender                    | 61903 \n",
      " tenure                    | 836   \n",
      " interest_rate             | 11    \n",
      " sanctionamount            | 16    \n",
      " first_disbursement_date   | 2840  \n",
      " last_Disbursement_date    | 2840  \n",
      " sum_Disubursement_amt     | 0     \n",
      " overdue_interest          | 47842 \n",
      " overdue_principal         | 47853 \n",
      " bounce_charges            | 47853 \n",
      " principal_Outstanding_amt | 47062 \n",
      " no_of_loan_counts         | 2840  \n",
      " vintage                   | 2840  \n",
      " recency                   | 2840  \n",
      " Status                    | 156   \n",
      " Age                       | 390   \n",
      " Target                    | 0     \n",
      " uniq                      | 0     \n",
      "\n"
     ]
    }
   ],
   "source": [
    "df.select([count(when(isnan(c) | col(c).isNull(), c)).alias(c) for c in df.columns]).show(vertical=True)\n",
    "\n",
    "#https://sparkbyexamples.com/pyspark/pyspark-find-count-of-null-none-nan-values/\n",
    "# OR\n",
    "\n",
    "# df.select([count(when(col(c).contains('None') | \\\n",
    "#                             col(c).contains('NULL') | \\\n",
    "#                             (col(c) == '' ) | \\\n",
    "#                             col(c).isNull() | \\\n",
    "#                             isnan(c), c \n",
    "#                            )).alias(c)\n",
    "#                     for c in df.columns]).show(vertical=True)"
   ]
  },
  {
   "cell_type": "code",
   "execution_count": 17,
   "metadata": {},
   "outputs": [
    {
     "data": {
      "text/html": [
       "<div>\n",
       "<style scoped>\n",
       "    .dataframe tbody tr th:only-of-type {\n",
       "        vertical-align: middle;\n",
       "    }\n",
       "\n",
       "    .dataframe tbody tr th {\n",
       "        vertical-align: top;\n",
       "    }\n",
       "\n",
       "    .dataframe thead th {\n",
       "        text-align: right;\n",
       "    }\n",
       "</style>\n",
       "<table border=\"1\" class=\"dataframe\">\n",
       "  <thead>\n",
       "    <tr style=\"text-align: right;\">\n",
       "      <th></th>\n",
       "      <th>tag</th>\n",
       "      <th>gender</th>\n",
       "      <th>tenure</th>\n",
       "      <th>interest_rate</th>\n",
       "      <th>sanctionamount</th>\n",
       "      <th>first_disbursement_date</th>\n",
       "      <th>last_Disbursement_date</th>\n",
       "      <th>sum_Disubursement_amt</th>\n",
       "      <th>overdue_interest</th>\n",
       "      <th>overdue_principal</th>\n",
       "      <th>bounce_charges</th>\n",
       "      <th>principal_Outstanding_amt</th>\n",
       "      <th>no_of_loan_counts</th>\n",
       "      <th>vintage</th>\n",
       "      <th>recency</th>\n",
       "      <th>Status</th>\n",
       "      <th>Age</th>\n",
       "      <th>Target</th>\n",
       "      <th>uniq</th>\n",
       "    </tr>\n",
       "  </thead>\n",
       "  <tbody>\n",
       "    <tr>\n",
       "      <th>0</th>\n",
       "      <td>0</td>\n",
       "      <td>61903</td>\n",
       "      <td>836</td>\n",
       "      <td>11</td>\n",
       "      <td>16</td>\n",
       "      <td>2840</td>\n",
       "      <td>2840</td>\n",
       "      <td>0</td>\n",
       "      <td>47842</td>\n",
       "      <td>47853</td>\n",
       "      <td>47853</td>\n",
       "      <td>47062</td>\n",
       "      <td>2840</td>\n",
       "      <td>2840</td>\n",
       "      <td>2840</td>\n",
       "      <td>156</td>\n",
       "      <td>390</td>\n",
       "      <td>0</td>\n",
       "      <td>0</td>\n",
       "    </tr>\n",
       "  </tbody>\n",
       "</table>\n",
       "</div>"
      ],
      "text/plain": [
       "   tag  gender  tenure  interest_rate  sanctionamount  \\\n",
       "0    0   61903     836             11              16   \n",
       "\n",
       "   first_disbursement_date  last_Disbursement_date  sum_Disubursement_amt  \\\n",
       "0                     2840                    2840                      0   \n",
       "\n",
       "   overdue_interest  overdue_principal  bounce_charges  \\\n",
       "0             47842              47853           47853   \n",
       "\n",
       "   principal_Outstanding_amt  no_of_loan_counts  vintage  recency  Status  \\\n",
       "0                      47062               2840     2840     2840     156   \n",
       "\n",
       "   Age  Target  uniq  \n",
       "0  390       0     0  "
      ]
     },
     "execution_count": 17,
     "metadata": {},
     "output_type": "execute_result"
    }
   ],
   "source": [
    "df.select([count(when(isnan(c) | col(c).isNull(), c)).alias(c) for c in df.columns]).toPandas()"
   ]
  },
  {
   "cell_type": "markdown",
   "metadata": {},
   "source": [
    "# % of missing values"
   ]
  },
  {
   "cell_type": "code",
   "execution_count": 18,
   "metadata": {},
   "outputs": [
    {
     "name": "stdout",
     "output_type": "stream",
     "text": [
      "-RECORD 0------------------------------\n",
      " tag                       | 0.0       \n",
      " gender                    | 13.519186 \n",
      " tenure                    | 0.182577  \n",
      " interest_rate             | 0.002402  \n",
      " sanctionamount            | 0.003494  \n",
      " first_disbursement_date   | 0.620236  \n",
      " last_Disbursement_date    | 0.620236  \n",
      " sum_Disubursement_amt     | 0.0       \n",
      " overdue_interest          | 10.448361 \n",
      " overdue_principal         | 10.450763 \n",
      " bounce_charges            | 10.450763 \n",
      " principal_Outstanding_amt | 10.278014 \n",
      " no_of_loan_counts         | 0.620236  \n",
      " vintage                   | 0.620236  \n",
      " recency                   | 0.620236  \n",
      " Status                    | 0.034069  \n",
      " Age                       | 0.085173  \n",
      " Target                    | 0.0       \n",
      " uniq                      | 0.0       \n",
      "\n"
     ]
    }
   ],
   "source": [
    "df.select([round((count(when(isnan(c)| col(c).isNull(),c))*100/count(lit(1))),6).\n",
    "           alias(c) for c in df.columns]).show(vertical=True)"
   ]
  },
  {
   "cell_type": "markdown",
   "metadata": {},
   "source": [
    "# fetching selected columns & storing in dataframe"
   ]
  },
  {
   "cell_type": "code",
   "execution_count": 21,
   "metadata": {},
   "outputs": [],
   "source": [
    "df=df.select(['uniq',\n",
    " 'tag',\n",
    " 'gender',\n",
    " 'tenure',\n",
    " 'interest_rate',\n",
    " 'sanctionamount',\n",
    " 'first_disbursement_date',\n",
    " 'last_Disbursement_date',\n",
    " 'sum_Disubursement_amt',\n",
    " 'overdue_interest',\n",
    " 'overdue_principal',\n",
    " 'bounce_charges',\n",
    " 'principal_Outstanding_amt',\n",
    " 'no_of_loan_counts',\n",
    " 'vintage',\n",
    " 'recency',\n",
    " 'Status',\n",
    " 'Age',\n",
    " 'Target'])"
   ]
  },
  {
   "cell_type": "code",
   "execution_count": 22,
   "metadata": {},
   "outputs": [
    {
     "data": {
      "text/plain": [
       "19"
      ]
     },
     "execution_count": 22,
     "metadata": {},
     "output_type": "execute_result"
    }
   ],
   "source": [
    "len(df.columns)"
   ]
  },
  {
   "cell_type": "markdown",
   "metadata": {},
   "source": [
    "# Dropping columns"
   ]
  },
  {
   "cell_type": "markdown",
   "metadata": {},
   "source": [
    "# Drop single column"
   ]
  },
  {
   "cell_type": "code",
   "execution_count": 23,
   "metadata": {},
   "outputs": [],
   "source": [
    "# df= df.drop('Target')\n",
    "# df=df.drop('uniq')"
   ]
  },
  {
   "cell_type": "markdown",
   "metadata": {},
   "source": [
    "# Drop multiple columns"
   ]
  },
  {
   "cell_type": "code",
   "execution_count": 24,
   "metadata": {},
   "outputs": [],
   "source": [
    "df= df.drop(*( 'first_disbursement_date','last_Disbursement_date'))"
   ]
  },
  {
   "cell_type": "markdown",
   "metadata": {},
   "source": [
    "# variable & datatype"
   ]
  },
  {
   "cell_type": "code",
   "execution_count": 25,
   "metadata": {},
   "outputs": [
    {
     "data": {
      "text/plain": [
       "[('uniq', 'int'),\n",
       " ('tag', 'string'),\n",
       " ('gender', 'string'),\n",
       " ('tenure', 'double'),\n",
       " ('interest_rate', 'double'),\n",
       " ('sanctionamount', 'double'),\n",
       " ('sum_Disubursement_amt', 'double'),\n",
       " ('overdue_interest', 'double'),\n",
       " ('overdue_principal', 'double'),\n",
       " ('bounce_charges', 'double'),\n",
       " ('principal_Outstanding_amt', 'double'),\n",
       " ('no_of_loan_counts', 'double'),\n",
       " ('vintage', 'double'),\n",
       " ('recency', 'double'),\n",
       " ('Status', 'string'),\n",
       " ('Age', 'double'),\n",
       " ('Target', 'int')]"
      ]
     },
     "execution_count": 25,
     "metadata": {},
     "output_type": "execute_result"
    }
   ],
   "source": [
    "df.dtypes"
   ]
  },
  {
   "cell_type": "markdown",
   "metadata": {},
   "source": [
    "# change variable datatype"
   ]
  },
  {
   "cell_type": "code",
   "execution_count": 26,
   "metadata": {},
   "outputs": [],
   "source": [
    "df=df.withColumn('Age_new',df['Age'].cast(IntegerType()))"
   ]
  },
  {
   "cell_type": "code",
   "execution_count": 27,
   "metadata": {},
   "outputs": [
    {
     "data": {
      "text/plain": [
       "[('uniq', 'int'),\n",
       " ('tag', 'string'),\n",
       " ('gender', 'string'),\n",
       " ('tenure', 'double'),\n",
       " ('interest_rate', 'double'),\n",
       " ('sanctionamount', 'double'),\n",
       " ('sum_Disubursement_amt', 'double'),\n",
       " ('overdue_interest', 'double'),\n",
       " ('overdue_principal', 'double'),\n",
       " ('bounce_charges', 'double'),\n",
       " ('principal_Outstanding_amt', 'double'),\n",
       " ('no_of_loan_counts', 'double'),\n",
       " ('vintage', 'double'),\n",
       " ('recency', 'double'),\n",
       " ('Status', 'string'),\n",
       " ('Age', 'double'),\n",
       " ('Target', 'int'),\n",
       " ('Age_new', 'int')]"
      ]
     },
     "execution_count": 27,
     "metadata": {},
     "output_type": "execute_result"
    }
   ],
   "source": [
    "df.dtypes"
   ]
  },
  {
   "cell_type": "markdown",
   "metadata": {},
   "source": [
    "# Renaming columns"
   ]
  },
  {
   "cell_type": "code",
   "execution_count": 28,
   "metadata": {},
   "outputs": [],
   "source": [
    "df = df.withColumnRenamed('tag', 'tag_cat')\n",
    "df = df.withColumnRenamed('gender','gender_cat')\n",
    "df = df.withColumnRenamed('Status','status_cat')"
   ]
  },
  {
   "cell_type": "code",
   "execution_count": 29,
   "metadata": {},
   "outputs": [
    {
     "data": {
      "text/plain": [
       "['uniq',\n",
       " 'tag_cat',\n",
       " 'gender_cat',\n",
       " 'tenure',\n",
       " 'interest_rate',\n",
       " 'sanctionamount',\n",
       " 'sum_Disubursement_amt',\n",
       " 'overdue_interest',\n",
       " 'overdue_principal',\n",
       " 'bounce_charges',\n",
       " 'principal_Outstanding_amt',\n",
       " 'no_of_loan_counts',\n",
       " 'vintage',\n",
       " 'recency',\n",
       " 'status_cat',\n",
       " 'Age',\n",
       " 'Target',\n",
       " 'Age_new']"
      ]
     },
     "execution_count": 29,
     "metadata": {},
     "output_type": "execute_result"
    }
   ],
   "source": [
    "df.columns"
   ]
  },
  {
   "cell_type": "code",
   "execution_count": 31,
   "metadata": {},
   "outputs": [],
   "source": [
    "df=df.select([\n",
    " 'tag_cat',\n",
    " 'gender_cat',\n",
    " 'status_cat',\n",
    " 'tenure',\n",
    " 'interest_rate',\n",
    " 'sanctionamount',\n",
    " 'sum_Disubursement_amt',\n",
    " 'overdue_interest',\n",
    " 'overdue_principal',\n",
    " 'bounce_charges',\n",
    " 'principal_Outstanding_amt',\n",
    " 'no_of_loan_counts',\n",
    " 'vintage',\n",
    " 'recency',\n",
    " 'Age_new',\n",
    " 'Target'])"
   ]
  },
  {
   "cell_type": "code",
   "execution_count": 32,
   "metadata": {},
   "outputs": [
    {
     "name": "stdout",
     "output_type": "stream",
     "text": [
      "root\n",
      " |-- tag_cat: string (nullable = true)\n",
      " |-- gender_cat: string (nullable = true)\n",
      " |-- status_cat: string (nullable = true)\n",
      " |-- tenure: double (nullable = true)\n",
      " |-- interest_rate: double (nullable = true)\n",
      " |-- sanctionamount: double (nullable = true)\n",
      " |-- sum_Disubursement_amt: double (nullable = true)\n",
      " |-- overdue_interest: double (nullable = true)\n",
      " |-- overdue_principal: double (nullable = true)\n",
      " |-- bounce_charges: double (nullable = true)\n",
      " |-- principal_Outstanding_amt: double (nullable = true)\n",
      " |-- no_of_loan_counts: double (nullable = true)\n",
      " |-- vintage: double (nullable = true)\n",
      " |-- recency: double (nullable = true)\n",
      " |-- Age_new: integer (nullable = true)\n",
      " |-- Target: integer (nullable = true)\n",
      "\n"
     ]
    }
   ],
   "source": [
    "df.printSchema()"
   ]
  },
  {
   "cell_type": "code",
   "execution_count": 33,
   "metadata": {},
   "outputs": [
    {
     "name": "stdout",
     "output_type": "stream",
     "text": [
      "total records :  457890\n",
      "total distinct records :  396212\n",
      "number of columns :  16\n"
     ]
    }
   ],
   "source": [
    "print('total records : ' ,df.count()) #total rows\n",
    "print('total distinct records : ',df.distinct().count()) #total distinct rows\n",
    "print ('number of columns : ', len(df.columns)) \n",
    "#total distinct customer since it is the uniqueness"
   ]
  },
  {
   "cell_type": "code",
   "execution_count": 34,
   "metadata": {},
   "outputs": [
    {
     "data": {
      "text/html": [
       "<div>\n",
       "<style scoped>\n",
       "    .dataframe tbody tr th:only-of-type {\n",
       "        vertical-align: middle;\n",
       "    }\n",
       "\n",
       "    .dataframe tbody tr th {\n",
       "        vertical-align: top;\n",
       "    }\n",
       "\n",
       "    .dataframe thead th {\n",
       "        text-align: right;\n",
       "    }\n",
       "</style>\n",
       "<table border=\"1\" class=\"dataframe\">\n",
       "  <thead>\n",
       "    <tr style=\"text-align: right;\">\n",
       "      <th></th>\n",
       "      <th>tag_cat</th>\n",
       "      <th>gender_cat</th>\n",
       "      <th>status_cat</th>\n",
       "      <th>tenure</th>\n",
       "      <th>interest_rate</th>\n",
       "      <th>sanctionamount</th>\n",
       "      <th>sum_Disubursement_amt</th>\n",
       "      <th>overdue_interest</th>\n",
       "      <th>overdue_principal</th>\n",
       "      <th>bounce_charges</th>\n",
       "      <th>principal_Outstanding_amt</th>\n",
       "      <th>no_of_loan_counts</th>\n",
       "      <th>vintage</th>\n",
       "      <th>recency</th>\n",
       "      <th>Age_new</th>\n",
       "      <th>Target</th>\n",
       "    </tr>\n",
       "  </thead>\n",
       "  <tbody>\n",
       "    <tr>\n",
       "      <th>0</th>\n",
       "      <td>online</td>\n",
       "      <td>None</td>\n",
       "      <td>inactive</td>\n",
       "      <td>37.0</td>\n",
       "      <td>23.0</td>\n",
       "      <td>100000.0</td>\n",
       "      <td>100073.0</td>\n",
       "      <td>0.0</td>\n",
       "      <td>0.0</td>\n",
       "      <td>0.0</td>\n",
       "      <td>0.0</td>\n",
       "      <td>1.0</td>\n",
       "      <td>5.0</td>\n",
       "      <td>2.0</td>\n",
       "      <td>42.0</td>\n",
       "      <td>0</td>\n",
       "    </tr>\n",
       "    <tr>\n",
       "      <th>1</th>\n",
       "      <td>online</td>\n",
       "      <td>m</td>\n",
       "      <td>inactive</td>\n",
       "      <td>6.0</td>\n",
       "      <td>0.0</td>\n",
       "      <td>10400.0</td>\n",
       "      <td>10400.0</td>\n",
       "      <td>0.0</td>\n",
       "      <td>0.0</td>\n",
       "      <td>0.0</td>\n",
       "      <td>0.0</td>\n",
       "      <td>1.0</td>\n",
       "      <td>5.0</td>\n",
       "      <td>5.0</td>\n",
       "      <td>55.0</td>\n",
       "      <td>0</td>\n",
       "    </tr>\n",
       "    <tr>\n",
       "      <th>2</th>\n",
       "      <td>online</td>\n",
       "      <td>m</td>\n",
       "      <td>inactive</td>\n",
       "      <td>6.0</td>\n",
       "      <td>36.0</td>\n",
       "      <td>15000.0</td>\n",
       "      <td>15000.0</td>\n",
       "      <td>0.0</td>\n",
       "      <td>0.0</td>\n",
       "      <td>2.0</td>\n",
       "      <td>0.0</td>\n",
       "      <td>1.0</td>\n",
       "      <td>0.0</td>\n",
       "      <td>0.0</td>\n",
       "      <td>36.0</td>\n",
       "      <td>0</td>\n",
       "    </tr>\n",
       "  </tbody>\n",
       "</table>\n",
       "</div>"
      ],
      "text/plain": [
       "  tag_cat gender_cat status_cat  tenure  interest_rate  sanctionamount  \\\n",
       "0  online       None   inactive    37.0           23.0        100000.0   \n",
       "1  online          m   inactive     6.0            0.0         10400.0   \n",
       "2  online          m   inactive     6.0           36.0         15000.0   \n",
       "\n",
       "   sum_Disubursement_amt  overdue_interest  overdue_principal  bounce_charges  \\\n",
       "0               100073.0               0.0                0.0             0.0   \n",
       "1                10400.0               0.0                0.0             0.0   \n",
       "2                15000.0               0.0                0.0             2.0   \n",
       "\n",
       "   principal_Outstanding_amt  no_of_loan_counts  vintage  recency  Age_new  \\\n",
       "0                        0.0                1.0      5.0      2.0     42.0   \n",
       "1                        0.0                1.0      5.0      5.0     55.0   \n",
       "2                        0.0                1.0      0.0      0.0     36.0   \n",
       "\n",
       "   Target  \n",
       "0       0  \n",
       "1       0  \n",
       "2       0  "
      ]
     },
     "execution_count": 34,
     "metadata": {},
     "output_type": "execute_result"
    }
   ],
   "source": [
    "df.toPandas().head(3)"
   ]
  },
  {
   "cell_type": "code",
   "execution_count": 35,
   "metadata": {},
   "outputs": [
    {
     "data": {
      "text/plain": [
       "'if your categorical feature is already \"represented as a label index\", \\nyou don\\'t need to use StringIndexer first. Instead, you can directly apply one-hot encoding.\\n\\nOn the other hand:\\n\\nif your categorical feature is, e.g. represented as string values, \\nit becomes necessary to use StringIndexer first to convert the string values into label indices (numeric values). '"
      ]
     },
     "execution_count": 35,
     "metadata": {},
     "output_type": "execute_result"
    }
   ],
   "source": [
    "'''if your categorical feature is already \"represented as a label index\", \n",
    "you don't need to use StringIndexer first. Instead, you can directly apply one-hot encoding.\n",
    "\n",
    "On the other hand:\n",
    "\n",
    "if your categorical feature is, e.g. represented as string values, \n",
    "it becomes necessary to use StringIndexer first to convert the string values into label indices (numeric values). '''"
   ]
  },
  {
   "cell_type": "markdown",
   "metadata": {},
   "source": [
    "# getting distinct category names and their counts"
   ]
  },
  {
   "cell_type": "code",
   "execution_count": 36,
   "metadata": {},
   "outputs": [
    {
     "name": "stdout",
     "output_type": "stream",
     "text": [
      "+----------+------+\n",
      "|gender_cat| count|\n",
      "+----------+------+\n",
      "|         m|301962|\n",
      "|      NULL| 61903|\n",
      "|         f| 45179|\n",
      "|     other|     3|\n",
      "|    others|     1|\n",
      "|    female|  7887|\n",
      "|      male| 40955|\n",
      "+----------+------+\n",
      "\n"
     ]
    }
   ],
   "source": [
    "df.groupBy('gender_cat').count().show()"
   ]
  },
  {
   "cell_type": "code",
   "execution_count": 37,
   "metadata": {},
   "outputs": [
    {
     "name": "stdout",
     "output_type": "stream",
     "text": [
      "+-------+------+\n",
      "|tag_cat| count|\n",
      "+-------+------+\n",
      "| online|356204|\n",
      "| offlin|101686|\n",
      "+-------+------+\n",
      "\n"
     ]
    }
   ],
   "source": [
    "df.groupBy('tag_cat').count().show()"
   ]
  },
  {
   "cell_type": "code",
   "execution_count": 38,
   "metadata": {},
   "outputs": [
    {
     "name": "stdout",
     "output_type": "stream",
     "text": [
      "+----------+------+\n",
      "|Status_cat| count|\n",
      "+----------+------+\n",
      "|      NULL|   156|\n",
      "|    active|328904|\n",
      "|  inactive|128830|\n",
      "+----------+------+\n",
      "\n"
     ]
    }
   ],
   "source": [
    "df.groupBy('Status_cat').count().show()"
   ]
  },
  {
   "cell_type": "markdown",
   "metadata": {},
   "source": [
    "# bivariate wrt target variable"
   ]
  },
  {
   "cell_type": "code",
   "execution_count": 39,
   "metadata": {},
   "outputs": [
    {
     "name": "stdout",
     "output_type": "stream",
     "text": [
      "+-------+------+-----+\n",
      "|tag_cat|     0|    1|\n",
      "+-------+------+-----+\n",
      "| online|353885| 2319|\n",
      "| offlin| 86811|14875|\n",
      "+-------+------+-----+\n",
      "\n"
     ]
    }
   ],
   "source": [
    "df.groupBy('tag_cat').pivot('Target').count().show()"
   ]
  },
  {
   "cell_type": "code",
   "execution_count": 40,
   "metadata": {},
   "outputs": [
    {
     "name": "stdout",
     "output_type": "stream",
     "text": [
      "+----------+------+-----+\n",
      "|Status_cat|     0|    1|\n",
      "+----------+------+-----+\n",
      "|      NULL|   149|    7|\n",
      "|    active|313745|15159|\n",
      "|  inactive|126802| 2028|\n",
      "+----------+------+-----+\n",
      "\n"
     ]
    }
   ],
   "source": [
    "df.groupBy('Status_cat').pivot('Target').count().show()"
   ]
  },
  {
   "cell_type": "code",
   "execution_count": 41,
   "metadata": {},
   "outputs": [
    {
     "name": "stdout",
     "output_type": "stream",
     "text": [
      "+----------+------+-----+\n",
      "|gender_cat|     0|    1|\n",
      "+----------+------+-----+\n",
      "|         m|299982| 1980|\n",
      "|      NULL| 59160| 2743|\n",
      "|         f| 44927|  252|\n",
      "|    female|  6087| 1800|\n",
      "|     other|     3| NULL|\n",
      "|    others|     1| NULL|\n",
      "|      male| 30536|10419|\n",
      "+----------+------+-----+\n",
      "\n"
     ]
    }
   ],
   "source": [
    "df.groupBy('gender_cat').pivot('Target').count().show()"
   ]
  },
  {
   "cell_type": "markdown",
   "metadata": {},
   "source": [
    "# Impute string columns by mode"
   ]
  },
  {
   "cell_type": "code",
   "execution_count": 42,
   "metadata": {},
   "outputs": [
    {
     "name": "stdout",
     "output_type": "stream",
     "text": [
      "+----------+------+\n",
      "|Status_cat| count|\n",
      "+----------+------+\n",
      "|    active|329060|\n",
      "|  inactive|128830|\n",
      "+----------+------+\n",
      "\n"
     ]
    }
   ],
   "source": [
    "df = df.fillna({'Status_cat':'active'})\n",
    "df.groupBy('Status_cat').count().show()"
   ]
  },
  {
   "cell_type": "code",
   "execution_count": 43,
   "metadata": {},
   "outputs": [],
   "source": [
    "df=df.na.replace(['male', 'm','f','other','others','female'], ['A','A','B','A','A','B'], 'gender_cat')\n",
    "#https://www.skytowner.com/explore/pyspark_dataframe_replace_method\n",
    "#https://spark.apache.org/docs/3.1.2/api/python/reference/api/pyspark.sql.DataFrame.replace.html"
   ]
  },
  {
   "cell_type": "code",
   "execution_count": 44,
   "metadata": {},
   "outputs": [
    {
     "name": "stdout",
     "output_type": "stream",
     "text": [
      "+----------+------+\n",
      "|gender_cat| count|\n",
      "+----------+------+\n",
      "|         B| 53066|\n",
      "|         A|404824|\n",
      "+----------+------+\n",
      "\n"
     ]
    }
   ],
   "source": [
    "df = df.fillna({'gender_cat':'A'})\n",
    "df.groupBy('gender_cat').count().show()"
   ]
  },
  {
   "cell_type": "code",
   "execution_count": 45,
   "metadata": {},
   "outputs": [
    {
     "name": "stdout",
     "output_type": "stream",
     "text": [
      "+------+------+\n",
      "|Target| count|\n",
      "+------+------+\n",
      "|     0|440696|\n",
      "|     1| 17194|\n",
      "+------+------+\n",
      "\n"
     ]
    }
   ],
   "source": [
    "df.groupBy('Target').count().show()"
   ]
  },
  {
   "cell_type": "code",
   "execution_count": 46,
   "metadata": {},
   "outputs": [
    {
     "data": {
      "text/plain": [
       "['tag_cat',\n",
       " 'gender_cat',\n",
       " 'status_cat',\n",
       " 'tenure',\n",
       " 'interest_rate',\n",
       " 'sanctionamount',\n",
       " 'sum_Disubursement_amt',\n",
       " 'overdue_interest',\n",
       " 'overdue_principal',\n",
       " 'bounce_charges',\n",
       " 'principal_Outstanding_amt',\n",
       " 'no_of_loan_counts',\n",
       " 'vintage',\n",
       " 'recency',\n",
       " 'Age_new',\n",
       " 'Target']"
      ]
     },
     "execution_count": 46,
     "metadata": {},
     "output_type": "execute_result"
    }
   ],
   "source": [
    "df.columns"
   ]
  },
  {
   "cell_type": "code",
   "execution_count": 47,
   "metadata": {},
   "outputs": [
    {
     "name": "stdout",
     "output_type": "stream",
     "text": [
      "-RECORD 0------------------------------\n",
      " tag_cat                   | 0.0       \n",
      " gender_cat                | 0.0       \n",
      " status_cat                | 0.0       \n",
      " tenure                    | 0.182577  \n",
      " interest_rate             | 0.002402  \n",
      " sanctionamount            | 0.003494  \n",
      " sum_Disubursement_amt     | 0.0       \n",
      " overdue_interest          | 10.448361 \n",
      " overdue_principal         | 10.450763 \n",
      " bounce_charges            | 10.450763 \n",
      " principal_Outstanding_amt | 10.278014 \n",
      " no_of_loan_counts         | 0.620236  \n",
      " vintage                   | 0.620236  \n",
      " recency                   | 0.620236  \n",
      " Age_new                   | 0.085173  \n",
      " Target                    | 0.0       \n",
      "\n"
     ]
    }
   ],
   "source": [
    "df.select([round((count(when(isnan(c)| col(c).isNull(),c))*100/count(lit(1))),6).\n",
    "           alias(c) for c in df.columns]).show(vertical=True)"
   ]
  },
  {
   "cell_type": "code",
   "execution_count": 48,
   "metadata": {},
   "outputs": [
    {
     "data": {
      "text/plain": [
       "16"
      ]
     },
     "execution_count": 48,
     "metadata": {},
     "output_type": "execute_result"
    }
   ],
   "source": [
    "len(df.columns)"
   ]
  },
  {
   "cell_type": "code",
   "execution_count": 49,
   "metadata": {},
   "outputs": [
    {
     "name": "stdout",
     "output_type": "stream",
     "text": [
      "-RECORD 0--------------------------\n",
      " tag_cat                   | 0     \n",
      " gender_cat                | 0     \n",
      " status_cat                | 0     \n",
      " tenure                    | 836   \n",
      " interest_rate             | 11    \n",
      " sanctionamount            | 16    \n",
      " sum_Disubursement_amt     | 0     \n",
      " overdue_interest          | 47842 \n",
      " overdue_principal         | 47853 \n",
      " bounce_charges            | 47853 \n",
      " principal_Outstanding_amt | 47062 \n",
      " no_of_loan_counts         | 2840  \n",
      " vintage                   | 2840  \n",
      " recency                   | 2840  \n",
      " Age_new                   | 390   \n",
      " Target                    | 0     \n",
      "\n"
     ]
    }
   ],
   "source": [
    "df.select([count(when(isnan(c) | col(c).isNull(), c)).alias(c) for c in df.columns]).show(vertical=True)"
   ]
  },
  {
   "cell_type": "markdown",
   "metadata": {},
   "source": [
    "# Drop rows having individual row missing value more than 8 out of 16 column"
   ]
  },
  {
   "cell_type": "code",
   "execution_count": 50,
   "metadata": {},
   "outputs": [],
   "source": [
    "##threshold\n",
    "df=df.na.drop(how=\"any\",thresh=8)"
   ]
  },
  {
   "cell_type": "code",
   "execution_count": 51,
   "metadata": {},
   "outputs": [
    {
     "data": {
      "text/plain": [
       "457890"
      ]
     },
     "execution_count": 51,
     "metadata": {},
     "output_type": "execute_result"
    }
   ],
   "source": [
    "df.count()  #there are no as such records"
   ]
  },
  {
   "cell_type": "code",
   "execution_count": 52,
   "metadata": {},
   "outputs": [
    {
     "data": {
      "text/plain": [
       "457890"
      ]
     },
     "execution_count": 52,
     "metadata": {},
     "output_type": "execute_result"
    }
   ],
   "source": [
    "df=df.na.drop(how=\"any\",thresh=5)\n",
    "df.count()"
   ]
  },
  {
   "cell_type": "markdown",
   "metadata": {},
   "source": [
    "# Dropping rows wrt column having null values"
   ]
  },
  {
   "cell_type": "code",
   "execution_count": 53,
   "metadata": {},
   "outputs": [
    {
     "data": {
      "text/plain": [
       "410037"
      ]
     },
     "execution_count": 53,
     "metadata": {},
     "output_type": "execute_result"
    }
   ],
   "source": [
    "df=df.na.drop(how=\"any\",subset=['overdue_principal'])\n",
    "df.count()"
   ]
  },
  {
   "cell_type": "code",
   "execution_count": 54,
   "metadata": {},
   "outputs": [
    {
     "name": "stdout",
     "output_type": "stream",
     "text": [
      "-RECORD 0-------------------------\n",
      " tag_cat                   | 0    \n",
      " gender_cat                | 0    \n",
      " status_cat                | 0    \n",
      " tenure                    | 0    \n",
      " interest_rate             | 0    \n",
      " sanctionamount            | 3    \n",
      " sum_Disubursement_amt     | 0    \n",
      " overdue_interest          | 0    \n",
      " overdue_principal         | 0    \n",
      " bounce_charges            | 0    \n",
      " principal_Outstanding_amt | 67   \n",
      " no_of_loan_counts         | 2768 \n",
      " vintage                   | 2768 \n",
      " recency                   | 2768 \n",
      " Age_new                   | 385  \n",
      " Target                    | 0    \n",
      "\n"
     ]
    }
   ],
   "source": [
    "df.select([count(when(isnan(c) | col(c).isNull(), c)).alias(c) for c in df.columns]).show(vertical=True)"
   ]
  },
  {
   "cell_type": "code",
   "execution_count": 55,
   "metadata": {},
   "outputs": [
    {
     "data": {
      "text/plain": [
       "406881"
      ]
     },
     "execution_count": 55,
     "metadata": {},
     "output_type": "execute_result"
    }
   ],
   "source": [
    "df=df.na.drop(how=\"any\",subset=['sanctionamount'])\n",
    "df=df.na.drop(how=\"any\",subset=['recency'])\n",
    "df=df.na.drop(how=\"any\",subset=['Age_new'])\n",
    "df.count()"
   ]
  },
  {
   "cell_type": "code",
   "execution_count": 56,
   "metadata": {},
   "outputs": [
    {
     "name": "stdout",
     "output_type": "stream",
     "text": [
      "-RECORD 0------------------------\n",
      " tag_cat                   | 0   \n",
      " gender_cat                | 0   \n",
      " status_cat                | 0   \n",
      " tenure                    | 0   \n",
      " interest_rate             | 0   \n",
      " sanctionamount            | 0   \n",
      " sum_Disubursement_amt     | 0   \n",
      " overdue_interest          | 0   \n",
      " overdue_principal         | 0   \n",
      " bounce_charges            | 0   \n",
      " principal_Outstanding_amt | 67  \n",
      " no_of_loan_counts         | 0   \n",
      " vintage                   | 0   \n",
      " recency                   | 0   \n",
      " Age_new                   | 0   \n",
      " Target                    | 0   \n",
      "\n"
     ]
    }
   ],
   "source": [
    "df.select([count(when(isnan(c) | col(c).isNull(), c)).alias(c) for c in df.columns]).show(vertical=True)"
   ]
  },
  {
   "cell_type": "code",
   "execution_count": 57,
   "metadata": {},
   "outputs": [
    {
     "data": {
      "text/plain": [
       "['tag_cat',\n",
       " 'gender_cat',\n",
       " 'status_cat',\n",
       " 'tenure',\n",
       " 'interest_rate',\n",
       " 'sanctionamount',\n",
       " 'sum_Disubursement_amt',\n",
       " 'overdue_interest',\n",
       " 'overdue_principal',\n",
       " 'bounce_charges',\n",
       " 'principal_Outstanding_amt',\n",
       " 'no_of_loan_counts',\n",
       " 'vintage',\n",
       " 'recency',\n",
       " 'Age_new',\n",
       " 'Target']"
      ]
     },
     "execution_count": 57,
     "metadata": {},
     "output_type": "execute_result"
    }
   ],
   "source": [
    "df.columns"
   ]
  },
  {
   "cell_type": "code",
   "execution_count": 58,
   "metadata": {},
   "outputs": [
    {
     "name": "stdout",
     "output_type": "stream",
     "text": [
      "root\n",
      " |-- tag_cat: string (nullable = true)\n",
      " |-- gender_cat: string (nullable = false)\n",
      " |-- status_cat: string (nullable = false)\n",
      " |-- tenure: double (nullable = true)\n",
      " |-- interest_rate: double (nullable = true)\n",
      " |-- sanctionamount: double (nullable = true)\n",
      " |-- sum_Disubursement_amt: double (nullable = true)\n",
      " |-- overdue_interest: double (nullable = true)\n",
      " |-- overdue_principal: double (nullable = true)\n",
      " |-- bounce_charges: double (nullable = true)\n",
      " |-- principal_Outstanding_amt: double (nullable = true)\n",
      " |-- no_of_loan_counts: double (nullable = true)\n",
      " |-- vintage: double (nullable = true)\n",
      " |-- recency: double (nullable = true)\n",
      " |-- Age_new: integer (nullable = true)\n",
      " |-- Target: integer (nullable = true)\n",
      "\n"
     ]
    }
   ],
   "source": [
    "df.printSchema()"
   ]
  },
  {
   "cell_type": "markdown",
   "metadata": {},
   "source": [
    "# Data continous var summary"
   ]
  },
  {
   "cell_type": "code",
   "execution_count": 59,
   "metadata": {},
   "outputs": [
    {
     "name": "stdout",
     "output_type": "stream",
     "text": [
      "+-------+-------------+--------------+---------------------+----------------+\n",
      "|summary|interest_rate|sanctionamount|sum_Disubursement_amt|overdue_interest|\n",
      "+-------+-------------+--------------+---------------------+----------------+\n",
      "|  count|       406881|        406881|               406881|          406881|\n",
      "|    min|          0.0|        1000.0|                  0.0|        -65851.0|\n",
      "|    25%|         15.0|       29000.0|              39001.0|             0.0|\n",
      "|    50%|         22.0|       60444.0|             120000.0|             0.0|\n",
      "|    75%|        27.74|      270000.0|             450000.0|             0.0|\n",
      "|    97%|         36.0|     2542000.0|            3000000.0|          6928.0|\n",
      "|    99%|        41.14|     5260000.0|            6837180.0|         33219.0|\n",
      "|    max|         48.0|         2.5E9|           9.528898E9|   2.381285881E7|\n",
      "+-------+-------------+--------------+---------------------+----------------+\n",
      "\n"
     ]
    }
   ],
   "source": [
    "df.select([ \n",
    " 'interest_rate',\n",
    " 'sanctionamount',\n",
    " 'sum_Disubursement_amt',\n",
    "  'overdue_interest',\n",
    "          ]).summary(\"count\",'min','25%','50%','75%','97%','99%','max').show()"
   ]
  },
  {
   "cell_type": "code",
   "execution_count": 60,
   "metadata": {},
   "outputs": [
    {
     "name": "stdout",
     "output_type": "stream",
     "text": [
      "+-------+-----------------+--------------+-------------------------+-----------------+\n",
      "|summary|overdue_principal|bounce_charges|principal_Outstanding_amt|no_of_loan_counts|\n",
      "+-------+-----------------+--------------+-------------------------+-----------------+\n",
      "|  count|           406881|        406881|                   406814|           406881|\n",
      "|    min|             -1.0|       -8430.5|                     -1.0|              1.0|\n",
      "|    25%|              0.0|           0.0|                      0.0|              1.0|\n",
      "|    50%|              0.0|           0.0|                  25818.0|              1.0|\n",
      "|    75%|              0.0|           0.0|                 200000.0|              1.0|\n",
      "|    97%|          20127.0|        7000.0|                2174139.0|              3.0|\n",
      "|    99%|          59001.0|       23250.0|                4751386.0|              4.0|\n",
      "|    max|    8.682427012E7|       69108.0|            2.054270434E9|            183.0|\n",
      "+-------+-----------------+--------------+-------------------------+-----------------+\n",
      "\n"
     ]
    }
   ],
   "source": [
    " df.select([\n",
    " 'overdue_principal',\n",
    " 'bounce_charges',\n",
    " 'principal_Outstanding_amt',\n",
    " 'no_of_loan_counts',\n",
    "          ]).summary(\"count\",'min','25%','50%','75%','97%','99%','max').show()"
   ]
  },
  {
   "cell_type": "code",
   "execution_count": 61,
   "metadata": {},
   "outputs": [
    {
     "name": "stdout",
     "output_type": "stream",
     "text": [
      "+-------+------+-------+-------+-------+\n",
      "|summary|tenure|vintage|recency|Age_new|\n",
      "+-------+------+-------+-------+-------+\n",
      "|  count|406881| 406881| 406881| 406881|\n",
      "|    min|   1.0|    0.0|    0.0|    -19|\n",
      "|    25%|   9.0|    0.0|    0.0|     23|\n",
      "|    50%|  12.0|    0.0|    0.0|     30|\n",
      "|    75%|  36.0|    1.0|    1.0|     38|\n",
      "|    97%|  84.0|    4.0|    4.0|     57|\n",
      "|    99%| 189.0|    5.0|    4.0|     60|\n",
      "|    max| 727.0|   15.0|    8.0|    947|\n",
      "+-------+------+-------+-------+-------+\n",
      "\n"
     ]
    }
   ],
   "source": [
    " df.select([\n",
    " 'tenure',\n",
    " 'vintage',\n",
    " 'recency',\n",
    " 'Age_new'\n",
    "          ]).summary(\"count\",'min','25%','50%','75%','97%','99%','max').show()"
   ]
  },
  {
   "cell_type": "code",
   "execution_count": 62,
   "metadata": {},
   "outputs": [],
   "source": [
    "df1=df.select([\n",
    " 'tag_cat',\n",
    " 'gender_cat',\n",
    " 'status_cat',\n",
    " 'tenure',\n",
    " 'interest_rate',\n",
    " 'sanctionamount',\n",
    " 'sum_Disubursement_amt',\n",
    " 'overdue_interest',\n",
    " 'overdue_principal',\n",
    " 'bounce_charges',\n",
    " 'principal_Outstanding_amt',\n",
    " 'no_of_loan_counts',\n",
    " 'vintage',\n",
    " 'recency',\n",
    " 'Age_new',\n",
    " 'Target'])"
   ]
  },
  {
   "cell_type": "markdown",
   "metadata": {},
   "source": [
    "# Drop rows with certain conditions like negative age, outlier record, negative principal and charges"
   ]
  },
  {
   "cell_type": "code",
   "execution_count": 63,
   "metadata": {},
   "outputs": [
    {
     "data": {
      "text/plain": [
       "397016"
      ]
     },
     "execution_count": 63,
     "metadata": {},
     "output_type": "execute_result"
    }
   ],
   "source": [
    "df=df.where(df.tenure<=84.0)\n",
    "df.count()"
   ]
  },
  {
   "cell_type": "code",
   "execution_count": 64,
   "metadata": {},
   "outputs": [
    {
     "data": {
      "text/plain": [
       "393226"
      ]
     },
     "execution_count": 64,
     "metadata": {},
     "output_type": "execute_result"
    }
   ],
   "source": [
    "df=df.where(df.vintage<=5)\n",
    "df=df.where(df.recency<=4)\n",
    "df.count()"
   ]
  },
  {
   "cell_type": "code",
   "execution_count": 65,
   "metadata": {},
   "outputs": [],
   "source": [
    "df=df.filter((df.Age_new >=21) & (df.Age_new <=60))"
   ]
  },
  {
   "cell_type": "code",
   "execution_count": 66,
   "metadata": {},
   "outputs": [],
   "source": [
    "df=df.filter((df.principal_Outstanding_amt >=0) & (df.principal_Outstanding_amt <=4751386.0))\n",
    "df=df.filter((df.no_of_loan_counts >=1) & (df.no_of_loan_counts <=4))\n",
    "df=df.filter((df.overdue_interest >=0) & (df.overdue_interest <=33219.0))"
   ]
  },
  {
   "cell_type": "code",
   "execution_count": 67,
   "metadata": {},
   "outputs": [
    {
     "data": {
      "text/plain": [
       "327673"
      ]
     },
     "execution_count": 67,
     "metadata": {},
     "output_type": "execute_result"
    }
   ],
   "source": [
    "df.count()"
   ]
  },
  {
   "cell_type": "code",
   "execution_count": 68,
   "metadata": {},
   "outputs": [
    {
     "name": "stdout",
     "output_type": "stream",
     "text": [
      "+-------+-------------+--------------+---------------------+----------------+\n",
      "|summary|interest_rate|sanctionamount|sum_Disubursement_amt|overdue_interest|\n",
      "+-------+-------------+--------------+---------------------+----------------+\n",
      "|  count|       327673|        327673|               327673|          327673|\n",
      "|    min|          0.0|        2184.0|                  0.7|             0.0|\n",
      "|    25%|        14.13|       23500.0|              30000.0|             0.0|\n",
      "|    50%|         22.0|       50000.0|              80000.0|             0.0|\n",
      "|    75%|         29.0|      109440.0|             220000.0|             0.0|\n",
      "|    97%|         36.0|      900000.0|            1300000.0|          2711.0|\n",
      "|    99%|         42.0|     2000000.0|           2727589.21|         10609.0|\n",
      "|    max|         48.0|  9.09009285E8|           9.528898E9|         33194.0|\n",
      "+-------+-------------+--------------+---------------------+----------------+\n",
      "\n"
     ]
    }
   ],
   "source": [
    "df.select([ \n",
    " 'interest_rate',\n",
    " 'sanctionamount',\n",
    " 'sum_Disubursement_amt',\n",
    "  'overdue_interest',\n",
    "          ]).summary(\"count\",'min','25%','50%','75%','97%','99%','max').show()"
   ]
  },
  {
   "cell_type": "code",
   "execution_count": 69,
   "metadata": {},
   "outputs": [
    {
     "name": "stdout",
     "output_type": "stream",
     "text": [
      "+-------+-----------------+--------------+-------------------------+-----------------+\n",
      "|summary|overdue_principal|bounce_charges|principal_Outstanding_amt|no_of_loan_counts|\n",
      "+-------+-----------------+--------------+-------------------------+-----------------+\n",
      "|  count|           327673|        327673|                   327673|           327673|\n",
      "|    min|              0.0|       -6500.0|                      0.0|              1.0|\n",
      "|    25%|              0.0|           0.0|                      0.0|              1.0|\n",
      "|    50%|              0.0|           0.0|                  15000.0|              1.0|\n",
      "|    75%|              0.0|           0.0|                  74782.0|              1.0|\n",
      "|    97%|          14000.0|        3000.0|                 775427.0|              3.0|\n",
      "|    99%|          34955.0|       19492.0|                1814898.0|              4.0|\n",
      "|    max|        1000000.0|       69108.0|                4749860.0|              4.0|\n",
      "+-------+-----------------+--------------+-------------------------+-----------------+\n",
      "\n"
     ]
    }
   ],
   "source": [
    " df.select([\n",
    " 'overdue_principal',\n",
    " 'bounce_charges',\n",
    " 'principal_Outstanding_amt',\n",
    " 'no_of_loan_counts',\n",
    "          ]).summary(\"count\",'min','25%','50%','75%','97%','99%','max').show()"
   ]
  },
  {
   "cell_type": "code",
   "execution_count": 70,
   "metadata": {},
   "outputs": [
    {
     "name": "stdout",
     "output_type": "stream",
     "text": [
      "+-------+------+-------+-------+-------+\n",
      "|summary|tenure|vintage|recency|Age_new|\n",
      "+-------+------+-------+-------+-------+\n",
      "|  count|327673| 327673| 327673| 327673|\n",
      "|    min|   1.0|    0.0|    0.0|     21|\n",
      "|    25%|   8.0|    0.0|    0.0|     27|\n",
      "|    50%|  12.0|    0.0|    0.0|     32|\n",
      "|    75%|  23.0|    1.0|    1.0|     39|\n",
      "|    97%|  61.0|    4.0|    4.0|     56|\n",
      "|    99%|  84.0|    4.0|    4.0|     58|\n",
      "|    max|  84.0|    5.0|    4.0|     60|\n",
      "+-------+------+-------+-------+-------+\n",
      "\n"
     ]
    }
   ],
   "source": [
    " df.select([\n",
    " 'tenure',\n",
    " 'vintage',\n",
    " 'recency',\n",
    " 'Age_new'\n",
    "          ]).summary(\"count\",'min','25%','50%','75%','97%','99%','max').show()"
   ]
  },
  {
   "cell_type": "markdown",
   "metadata": {},
   "source": [
    "# impute variables"
   ]
  },
  {
   "cell_type": "code",
   "execution_count": 72,
   "metadata": {},
   "outputs": [],
   "source": [
    "# df=df.na.replace([84], [24], 'tenure')\n",
    "# df=df.na.replace([1000000.0], [36307.0], 'overdue_principal')\n",
    "# df=df.na.replace([2.05E8], [2500000.0], 'sanctionamount')\n",
    "# df=df.na.replace([9.752E8], [2500000.0], 'sum_Disubursement_amt')\n",
    "\n",
    "df=df.where(df.vintage)\n",
    "\n",
    "# ##this imputation is not as good vo sirf particular value impute karega"
   ]
  },
  {
   "cell_type": "code",
   "execution_count": 74,
   "metadata": {},
   "outputs": [
    {
     "name": "stdout",
     "output_type": "stream",
     "text": [
      "+-------+-------------+--------------+---------------------+----------------+\n",
      "|summary|interest_rate|sanctionamount|sum_Disubursement_amt|overdue_interest|\n",
      "+-------+-------------+--------------+---------------------+----------------+\n",
      "|  count|       214954|        214954|               214954|          214954|\n",
      "|    min|          0.0|        2189.0|               2335.0|             0.0|\n",
      "|    25%|         16.0|       25000.0|              47000.0|             0.0|\n",
      "|    50%|         23.0|       60000.0|             120000.0|             0.0|\n",
      "|    75%|         30.0|      177000.0|             300000.0|             0.0|\n",
      "|    97%|         36.0|     1290000.0|            1400000.0|          3774.0|\n",
      "|    99%|         42.0|     2500000.0|            2500000.0|         11077.0|\n",
      "|    max|         48.0|        2.05E8|              9.752E8|         33194.0|\n",
      "+-------+-------------+--------------+---------------------+----------------+\n",
      "\n"
     ]
    }
   ],
   "source": [
    "df.select([ \n",
    " 'interest_rate',\n",
    " 'sanctionamount',\n",
    " 'sum_Disubursement_amt',\n",
    "  'overdue_interest']).summary(\"count\",'min','25%','50%','75%','97%','99%','max').show()"
   ]
  },
  {
   "cell_type": "code",
   "execution_count": 75,
   "metadata": {},
   "outputs": [
    {
     "name": "stdout",
     "output_type": "stream",
     "text": [
      "+-------+-----------------+--------------+-------------------------+-----------------+\n",
      "|summary|overdue_principal|bounce_charges|principal_Outstanding_amt|no_of_loan_counts|\n",
      "+-------+-----------------+--------------+-------------------------+-----------------+\n",
      "|  count|           214954|        214954|                   214954|           214954|\n",
      "|    min|              0.0|           0.0|                     23.0|              1.0|\n",
      "|    25%|              0.0|           0.0|                  15219.0|              1.0|\n",
      "|    50%|              0.0|           0.0|                  45110.0|              1.0|\n",
      "|    75%|              0.0|           0.0|                 143577.0|              1.0|\n",
      "|    97%|          18067.0|        2000.0|                1178369.0|              3.0|\n",
      "|    99%|          35963.0|       14176.0|                2212753.0|              4.0|\n",
      "|    max|        1000000.0|       23250.0|                4749860.0|              4.0|\n",
      "+-------+-----------------+--------------+-------------------------+-----------------+\n",
      "\n"
     ]
    }
   ],
   "source": [
    " df.select([\n",
    " 'overdue_principal',\n",
    " 'bounce_charges',\n",
    " 'principal_Outstanding_amt',\n",
    " 'no_of_loan_counts']).summary(\"count\",'min','25%','50%','75%','97%','99%','max').show()"
   ]
  },
  {
   "cell_type": "code",
   "execution_count": 76,
   "metadata": {},
   "outputs": [
    {
     "name": "stdout",
     "output_type": "stream",
     "text": [
      "+-------+------+-------+-------+-------+\n",
      "|summary|tenure|vintage|recency|Age_new|\n",
      "+-------+------+-------+-------+-------+\n",
      "|  count|214954| 214954| 214954| 214954|\n",
      "|    min|   1.0|    0.0|    0.0|     20|\n",
      "|    25%|   9.0|    0.0|    0.0|     26|\n",
      "|    50%|  12.0|    0.0|    0.0|     32|\n",
      "|    75%|  24.0|    1.0|    0.0|     38|\n",
      "|    97%|  84.0|    3.0|    2.0|     56|\n",
      "|    99%|  84.0|    4.0|    3.0|     58|\n",
      "|    max|  84.0|    5.0|    4.0|     60|\n",
      "+-------+------+-------+-------+-------+\n",
      "\n"
     ]
    }
   ],
   "source": [
    " df.select([\n",
    " 'tenure',\n",
    " 'vintage',\n",
    " 'recency',\n",
    " 'Age_new']).summary(\"count\",'min','25%','50%','75%','97%','99%','max').show()"
   ]
  },
  {
   "cell_type": "code",
   "execution_count": 77,
   "metadata": {},
   "outputs": [],
   "source": [
    "#https://deepnote.com/@rajshekar-2021/Outlier-Detection-Pyspark-069e69af-2c1d-4d4d-884a-92aad276d06f"
   ]
  },
  {
   "cell_type": "code",
   "execution_count": 78,
   "metadata": {},
   "outputs": [
    {
     "name": "stdout",
     "output_type": "stream",
     "text": [
      "root\n",
      " |-- CUSTOMERNO: string (nullable = true)\n",
      " |-- tag_cat: string (nullable = true)\n",
      " |-- gender_cat: string (nullable = false)\n",
      " |-- status_cat: string (nullable = false)\n",
      " |-- tenure: double (nullable = true)\n",
      " |-- interest_rate: double (nullable = true)\n",
      " |-- sanctionamount: double (nullable = true)\n",
      " |-- sum_Disubursement_amt: double (nullable = true)\n",
      " |-- overdue_interest: double (nullable = true)\n",
      " |-- overdue_principal: double (nullable = true)\n",
      " |-- bounce_charges: double (nullable = true)\n",
      " |-- principal_Outstanding_amt: double (nullable = true)\n",
      " |-- no_of_loan_counts: double (nullable = true)\n",
      " |-- vintage: double (nullable = true)\n",
      " |-- recency: double (nullable = true)\n",
      " |-- Age_new: integer (nullable = true)\n",
      " |-- MF_Target: integer (nullable = true)\n",
      "\n"
     ]
    }
   ],
   "source": [
    "df.printSchema()"
   ]
  },
  {
   "cell_type": "code",
   "execution_count": 79,
   "metadata": {},
   "outputs": [
    {
     "data": {
      "text/plain": [
       "['CUSTOMERNO',\n",
       " 'tag_cat',\n",
       " 'gender_cat',\n",
       " 'status_cat',\n",
       " 'tenure',\n",
       " 'interest_rate',\n",
       " 'sanctionamount',\n",
       " 'sum_Disubursement_amt',\n",
       " 'overdue_interest',\n",
       " 'overdue_principal',\n",
       " 'bounce_charges',\n",
       " 'principal_Outstanding_amt',\n",
       " 'no_of_loan_counts',\n",
       " 'vintage',\n",
       " 'recency',\n",
       " 'Age_new',\n",
       " 'MF_Target']"
      ]
     },
     "execution_count": 79,
     "metadata": {},
     "output_type": "execute_result"
    }
   ],
   "source": [
    "df.columns"
   ]
  },
  {
   "cell_type": "code",
   "execution_count": 80,
   "metadata": {},
   "outputs": [],
   "source": [
    "dff=df.select(['MF_Target',\n",
    " 'tag_cat',\n",
    " 'gender_cat',\n",
    " 'status_cat',\n",
    " 'tenure',\n",
    " 'interest_rate',\n",
    " 'sanctionamount',\n",
    " 'sum_Disubursement_amt',\n",
    " 'overdue_interest',\n",
    " 'overdue_principal',\n",
    " 'bounce_charges',\n",
    " 'principal_Outstanding_amt',\n",
    " 'no_of_loan_counts',\n",
    " 'vintage',\n",
    " 'recency',\n",
    " 'Age_new'\n",
    " ])"
   ]
  },
  {
   "cell_type": "code",
   "execution_count": 81,
   "metadata": {},
   "outputs": [
    {
     "data": {
      "text/html": [
       "<div>\n",
       "<style scoped>\n",
       "    .dataframe tbody tr th:only-of-type {\n",
       "        vertical-align: middle;\n",
       "    }\n",
       "\n",
       "    .dataframe tbody tr th {\n",
       "        vertical-align: top;\n",
       "    }\n",
       "\n",
       "    .dataframe thead th {\n",
       "        text-align: right;\n",
       "    }\n",
       "</style>\n",
       "<table border=\"1\" class=\"dataframe\">\n",
       "  <thead>\n",
       "    <tr style=\"text-align: right;\">\n",
       "      <th></th>\n",
       "      <th>MF_Target</th>\n",
       "      <th>tag_cat</th>\n",
       "      <th>gender_cat</th>\n",
       "      <th>status_cat</th>\n",
       "      <th>tenure</th>\n",
       "      <th>interest_rate</th>\n",
       "      <th>sanctionamount</th>\n",
       "      <th>sum_Disubursement_amt</th>\n",
       "      <th>overdue_interest</th>\n",
       "      <th>overdue_principal</th>\n",
       "      <th>bounce_charges</th>\n",
       "      <th>principal_Outstanding_amt</th>\n",
       "      <th>no_of_loan_counts</th>\n",
       "      <th>vintage</th>\n",
       "      <th>recency</th>\n",
       "      <th>Age_new</th>\n",
       "    </tr>\n",
       "  </thead>\n",
       "  <tbody>\n",
       "    <tr>\n",
       "      <th>0</th>\n",
       "      <td>0</td>\n",
       "      <td>online</td>\n",
       "      <td>B</td>\n",
       "      <td>active</td>\n",
       "      <td>6.0</td>\n",
       "      <td>38.0</td>\n",
       "      <td>16000.0</td>\n",
       "      <td>16000.0</td>\n",
       "      <td>0.0</td>\n",
       "      <td>0.0</td>\n",
       "      <td>0.0</td>\n",
       "      <td>6002.0</td>\n",
       "      <td>1.0</td>\n",
       "      <td>0.0</td>\n",
       "      <td>0.0</td>\n",
       "      <td>30</td>\n",
       "    </tr>\n",
       "    <tr>\n",
       "      <th>1</th>\n",
       "      <td>0</td>\n",
       "      <td>online</td>\n",
       "      <td>A</td>\n",
       "      <td>active</td>\n",
       "      <td>24.0</td>\n",
       "      <td>18.0</td>\n",
       "      <td>250000.0</td>\n",
       "      <td>500000.0</td>\n",
       "      <td>0.0</td>\n",
       "      <td>0.0</td>\n",
       "      <td>600.0</td>\n",
       "      <td>214282.0</td>\n",
       "      <td>1.0</td>\n",
       "      <td>0.0</td>\n",
       "      <td>0.0</td>\n",
       "      <td>34</td>\n",
       "    </tr>\n",
       "  </tbody>\n",
       "</table>\n",
       "</div>"
      ],
      "text/plain": [
       "   MF_Target tag_cat gender_cat status_cat  tenure  interest_rate  \\\n",
       "0          0  online          B     active     6.0           38.0   \n",
       "1          0  online          A     active    24.0           18.0   \n",
       "\n",
       "   sanctionamount  sum_Disubursement_amt  overdue_interest  overdue_principal  \\\n",
       "0         16000.0                16000.0               0.0                0.0   \n",
       "1        250000.0               500000.0               0.0                0.0   \n",
       "\n",
       "   bounce_charges  principal_Outstanding_amt  no_of_loan_counts  vintage  \\\n",
       "0             0.0                     6002.0                1.0      0.0   \n",
       "1           600.0                   214282.0                1.0      0.0   \n",
       "\n",
       "   recency  Age_new  \n",
       "0      0.0       30  \n",
       "1      0.0       34  "
      ]
     },
     "execution_count": 81,
     "metadata": {},
     "output_type": "execute_result"
    }
   ],
   "source": [
    "dff.toPandas().head(2)"
   ]
  },
  {
   "cell_type": "code",
   "execution_count": 82,
   "metadata": {},
   "outputs": [
    {
     "name": "stdout",
     "output_type": "stream",
     "text": [
      "+---------+------+\n",
      "|MF_Target| count|\n",
      "+---------+------+\n",
      "|        0|203291|\n",
      "|        1| 11663|\n",
      "+---------+------+\n",
      "\n"
     ]
    }
   ],
   "source": [
    "dff.groupBy('MF_Target').count().show()"
   ]
  },
  {
   "cell_type": "code",
   "execution_count": 83,
   "metadata": {},
   "outputs": [
    {
     "data": {
      "text/plain": [
       "(214954, 16)"
      ]
     },
     "execution_count": 83,
     "metadata": {},
     "output_type": "execute_result"
    }
   ],
   "source": [
    "dff.count(),len(dff.columns)"
   ]
  },
  {
   "cell_type": "code",
   "execution_count": 84,
   "metadata": {},
   "outputs": [
    {
     "data": {
      "text/plain": [
       "['MF_Target',\n",
       " 'tag_cat',\n",
       " 'gender_cat',\n",
       " 'status_cat',\n",
       " 'tenure',\n",
       " 'interest_rate',\n",
       " 'sanctionamount',\n",
       " 'sum_Disubursement_amt',\n",
       " 'overdue_interest',\n",
       " 'overdue_principal',\n",
       " 'bounce_charges',\n",
       " 'principal_Outstanding_amt',\n",
       " 'no_of_loan_counts',\n",
       " 'vintage',\n",
       " 'recency',\n",
       " 'Age_new']"
      ]
     },
     "execution_count": 84,
     "metadata": {},
     "output_type": "execute_result"
    }
   ],
   "source": [
    "dff.columns"
   ]
  },
  {
   "cell_type": "code",
   "execution_count": 85,
   "metadata": {},
   "outputs": [
    {
     "data": {
      "text/html": [
       "<div>\n",
       "<style scoped>\n",
       "    .dataframe tbody tr th:only-of-type {\n",
       "        vertical-align: middle;\n",
       "    }\n",
       "\n",
       "    .dataframe tbody tr th {\n",
       "        vertical-align: top;\n",
       "    }\n",
       "\n",
       "    .dataframe thead th {\n",
       "        text-align: right;\n",
       "    }\n",
       "</style>\n",
       "<table border=\"1\" class=\"dataframe\">\n",
       "  <thead>\n",
       "    <tr style=\"text-align: right;\">\n",
       "      <th></th>\n",
       "      <th>MF_Target</th>\n",
       "      <th>tag_cat</th>\n",
       "      <th>gender_cat</th>\n",
       "      <th>status_cat</th>\n",
       "      <th>tenure</th>\n",
       "      <th>interest_rate</th>\n",
       "      <th>sanctionamount</th>\n",
       "      <th>sum_Disubursement_amt</th>\n",
       "      <th>overdue_interest</th>\n",
       "      <th>overdue_principal</th>\n",
       "      <th>bounce_charges</th>\n",
       "      <th>principal_Outstanding_amt</th>\n",
       "      <th>no_of_loan_counts</th>\n",
       "      <th>vintage</th>\n",
       "      <th>recency</th>\n",
       "      <th>Age_new</th>\n",
       "    </tr>\n",
       "  </thead>\n",
       "  <tbody>\n",
       "    <tr>\n",
       "      <th>0</th>\n",
       "      <td>0</td>\n",
       "      <td>online</td>\n",
       "      <td>B</td>\n",
       "      <td>active</td>\n",
       "      <td>6.0</td>\n",
       "      <td>38.0</td>\n",
       "      <td>16000.0</td>\n",
       "      <td>16000.0</td>\n",
       "      <td>0.0</td>\n",
       "      <td>0.0</td>\n",
       "      <td>0.0</td>\n",
       "      <td>6002.0</td>\n",
       "      <td>1.0</td>\n",
       "      <td>0.0</td>\n",
       "      <td>0.0</td>\n",
       "      <td>30</td>\n",
       "    </tr>\n",
       "    <tr>\n",
       "      <th>1</th>\n",
       "      <td>0</td>\n",
       "      <td>online</td>\n",
       "      <td>A</td>\n",
       "      <td>active</td>\n",
       "      <td>24.0</td>\n",
       "      <td>18.0</td>\n",
       "      <td>250000.0</td>\n",
       "      <td>500000.0</td>\n",
       "      <td>0.0</td>\n",
       "      <td>0.0</td>\n",
       "      <td>600.0</td>\n",
       "      <td>214282.0</td>\n",
       "      <td>1.0</td>\n",
       "      <td>0.0</td>\n",
       "      <td>0.0</td>\n",
       "      <td>34</td>\n",
       "    </tr>\n",
       "    <tr>\n",
       "      <th>2</th>\n",
       "      <td>0</td>\n",
       "      <td>online</td>\n",
       "      <td>A</td>\n",
       "      <td>active</td>\n",
       "      <td>6.0</td>\n",
       "      <td>36.0</td>\n",
       "      <td>10000.0</td>\n",
       "      <td>10000.0</td>\n",
       "      <td>355.0</td>\n",
       "      <td>3337.0</td>\n",
       "      <td>0.0</td>\n",
       "      <td>6738.0</td>\n",
       "      <td>1.0</td>\n",
       "      <td>0.0</td>\n",
       "      <td>0.0</td>\n",
       "      <td>35</td>\n",
       "    </tr>\n",
       "    <tr>\n",
       "      <th>3</th>\n",
       "      <td>0</td>\n",
       "      <td>online</td>\n",
       "      <td>A</td>\n",
       "      <td>active</td>\n",
       "      <td>18.0</td>\n",
       "      <td>23.0</td>\n",
       "      <td>200000.0</td>\n",
       "      <td>400000.0</td>\n",
       "      <td>0.0</td>\n",
       "      <td>0.0</td>\n",
       "      <td>0.0</td>\n",
       "      <td>171226.0</td>\n",
       "      <td>1.0</td>\n",
       "      <td>0.0</td>\n",
       "      <td>0.0</td>\n",
       "      <td>29</td>\n",
       "    </tr>\n",
       "    <tr>\n",
       "      <th>4</th>\n",
       "      <td>0</td>\n",
       "      <td>online</td>\n",
       "      <td>A</td>\n",
       "      <td>active</td>\n",
       "      <td>12.0</td>\n",
       "      <td>29.0</td>\n",
       "      <td>65000.0</td>\n",
       "      <td>260000.0</td>\n",
       "      <td>0.0</td>\n",
       "      <td>0.0</td>\n",
       "      <td>0.0</td>\n",
       "      <td>65000.0</td>\n",
       "      <td>3.0</td>\n",
       "      <td>0.0</td>\n",
       "      <td>0.0</td>\n",
       "      <td>31</td>\n",
       "    </tr>\n",
       "  </tbody>\n",
       "</table>\n",
       "</div>"
      ],
      "text/plain": [
       "   MF_Target tag_cat gender_cat status_cat  tenure  interest_rate  \\\n",
       "0          0  online          B     active     6.0           38.0   \n",
       "1          0  online          A     active    24.0           18.0   \n",
       "2          0  online          A     active     6.0           36.0   \n",
       "3          0  online          A     active    18.0           23.0   \n",
       "4          0  online          A     active    12.0           29.0   \n",
       "\n",
       "   sanctionamount  sum_Disubursement_amt  overdue_interest  overdue_principal  \\\n",
       "0         16000.0                16000.0               0.0                0.0   \n",
       "1        250000.0               500000.0               0.0                0.0   \n",
       "2         10000.0                10000.0             355.0             3337.0   \n",
       "3        200000.0               400000.0               0.0                0.0   \n",
       "4         65000.0               260000.0               0.0                0.0   \n",
       "\n",
       "   bounce_charges  principal_Outstanding_amt  no_of_loan_counts  vintage  \\\n",
       "0             0.0                     6002.0                1.0      0.0   \n",
       "1           600.0                   214282.0                1.0      0.0   \n",
       "2             0.0                     6738.0                1.0      0.0   \n",
       "3             0.0                   171226.0                1.0      0.0   \n",
       "4             0.0                    65000.0                3.0      0.0   \n",
       "\n",
       "   recency  Age_new  \n",
       "0      0.0       30  \n",
       "1      0.0       34  \n",
       "2      0.0       35  \n",
       "3      0.0       29  \n",
       "4      0.0       31  "
      ]
     },
     "execution_count": 85,
     "metadata": {},
     "output_type": "execute_result"
    }
   ],
   "source": [
    "dff.toPandas().head()"
   ]
  },
  {
   "cell_type": "markdown",
   "metadata": {},
   "source": [
    "# Correlation matrix"
   ]
  },
  {
   "cell_type": "code",
   "execution_count": 86,
   "metadata": {},
   "outputs": [],
   "source": [
    "from pyspark.ml.feature import VectorAssembler\n",
    "from pyspark.ml.stat import Correlation\n",
    "import pandas as pd\n",
    "\n",
    "num_col = ['tenure',\n",
    " 'interest_rate',\n",
    " 'sanctionamount',\n",
    " 'sum_Disubursement_amt',\n",
    " 'overdue_interest',\n",
    " 'overdue_principal',\n",
    " 'bounce_charges',\n",
    " 'principal_Outstanding_amt',\n",
    " 'no_of_loan_counts',\n",
    " 'vintage',\n",
    " 'recency',\n",
    " 'Age_new']\n",
    "assembler = VectorAssembler(inputCols=num_col, outputCol=\"feature\") \n",
    "df_vector = assembler.transform(dff).select(\"feature\") \n",
    "# ##feature matlab vo num col pura lega and feature name dega\n",
    "\n",
    "matrix = Correlation.corr(df_vector, \"feature\").collect()[0][0]\n",
    "corrmatrix = matrix.toArray().tolist()"
   ]
  },
  {
   "cell_type": "code",
   "execution_count": 87,
   "metadata": {},
   "outputs": [
    {
     "data": {
      "text/html": [
       "<div>\n",
       "<style scoped>\n",
       "    .dataframe tbody tr th:only-of-type {\n",
       "        vertical-align: middle;\n",
       "    }\n",
       "\n",
       "    .dataframe tbody tr th {\n",
       "        vertical-align: top;\n",
       "    }\n",
       "\n",
       "    .dataframe thead th {\n",
       "        text-align: right;\n",
       "    }\n",
       "</style>\n",
       "<table border=\"1\" class=\"dataframe\">\n",
       "  <thead>\n",
       "    <tr style=\"text-align: right;\">\n",
       "      <th></th>\n",
       "      <th>tenure</th>\n",
       "      <th>interest_rate</th>\n",
       "      <th>sanctionamount</th>\n",
       "      <th>sum_Disubursement_amt</th>\n",
       "      <th>overdue_interest</th>\n",
       "      <th>overdue_principal</th>\n",
       "      <th>bounce_charges</th>\n",
       "      <th>principal_Outstanding_amt</th>\n",
       "      <th>no_of_loan_counts</th>\n",
       "      <th>vintage</th>\n",
       "      <th>recency</th>\n",
       "      <th>Age_new</th>\n",
       "    </tr>\n",
       "  </thead>\n",
       "  <tbody>\n",
       "    <tr>\n",
       "      <th>tenure</th>\n",
       "      <td>1.000000</td>\n",
       "      <td>-0.334216</td>\n",
       "      <td>0.400616</td>\n",
       "      <td>0.127726</td>\n",
       "      <td>0.078582</td>\n",
       "      <td>-0.046124</td>\n",
       "      <td>0.038909</td>\n",
       "      <td>0.687137</td>\n",
       "      <td>-0.116892</td>\n",
       "      <td>0.027465</td>\n",
       "      <td>0.046291</td>\n",
       "      <td>0.233202</td>\n",
       "    </tr>\n",
       "    <tr>\n",
       "      <th>interest_rate</th>\n",
       "      <td>-0.334216</td>\n",
       "      <td>1.000000</td>\n",
       "      <td>-0.164704</td>\n",
       "      <td>-0.066388</td>\n",
       "      <td>0.019229</td>\n",
       "      <td>0.000979</td>\n",
       "      <td>0.027579</td>\n",
       "      <td>-0.251295</td>\n",
       "      <td>0.153935</td>\n",
       "      <td>-0.023843</td>\n",
       "      <td>-0.095229</td>\n",
       "      <td>-0.180875</td>\n",
       "    </tr>\n",
       "    <tr>\n",
       "      <th>sanctionamount</th>\n",
       "      <td>0.400616</td>\n",
       "      <td>-0.164704</td>\n",
       "      <td>1.000000</td>\n",
       "      <td>0.435340</td>\n",
       "      <td>0.008470</td>\n",
       "      <td>-0.012431</td>\n",
       "      <td>-0.005139</td>\n",
       "      <td>0.603703</td>\n",
       "      <td>-0.045412</td>\n",
       "      <td>-0.012793</td>\n",
       "      <td>-0.005412</td>\n",
       "      <td>0.109435</td>\n",
       "    </tr>\n",
       "    <tr>\n",
       "      <th>sum_Disubursement_amt</th>\n",
       "      <td>0.127726</td>\n",
       "      <td>-0.066388</td>\n",
       "      <td>0.435340</td>\n",
       "      <td>1.000000</td>\n",
       "      <td>0.001000</td>\n",
       "      <td>-0.011680</td>\n",
       "      <td>-0.006384</td>\n",
       "      <td>0.193146</td>\n",
       "      <td>0.008216</td>\n",
       "      <td>0.013811</td>\n",
       "      <td>-0.006693</td>\n",
       "      <td>0.037902</td>\n",
       "    </tr>\n",
       "    <tr>\n",
       "      <th>overdue_interest</th>\n",
       "      <td>0.078582</td>\n",
       "      <td>0.019229</td>\n",
       "      <td>0.008470</td>\n",
       "      <td>0.001000</td>\n",
       "      <td>1.000000</td>\n",
       "      <td>0.632996</td>\n",
       "      <td>0.194115</td>\n",
       "      <td>0.014478</td>\n",
       "      <td>0.066957</td>\n",
       "      <td>0.303715</td>\n",
       "      <td>0.239263</td>\n",
       "      <td>0.043420</td>\n",
       "    </tr>\n",
       "    <tr>\n",
       "      <th>overdue_principal</th>\n",
       "      <td>-0.046124</td>\n",
       "      <td>0.000979</td>\n",
       "      <td>-0.012431</td>\n",
       "      <td>-0.011680</td>\n",
       "      <td>0.632996</td>\n",
       "      <td>1.000000</td>\n",
       "      <td>0.289649</td>\n",
       "      <td>-0.045159</td>\n",
       "      <td>0.019173</td>\n",
       "      <td>0.366740</td>\n",
       "      <td>0.373304</td>\n",
       "      <td>0.018420</td>\n",
       "    </tr>\n",
       "    <tr>\n",
       "      <th>bounce_charges</th>\n",
       "      <td>0.038909</td>\n",
       "      <td>0.027579</td>\n",
       "      <td>-0.005139</td>\n",
       "      <td>-0.006384</td>\n",
       "      <td>0.194115</td>\n",
       "      <td>0.289649</td>\n",
       "      <td>1.000000</td>\n",
       "      <td>-0.015873</td>\n",
       "      <td>-0.013370</td>\n",
       "      <td>0.456859</td>\n",
       "      <td>0.457806</td>\n",
       "      <td>0.056086</td>\n",
       "    </tr>\n",
       "    <tr>\n",
       "      <th>principal_Outstanding_amt</th>\n",
       "      <td>0.687137</td>\n",
       "      <td>-0.251295</td>\n",
       "      <td>0.603703</td>\n",
       "      <td>0.193146</td>\n",
       "      <td>0.014478</td>\n",
       "      <td>-0.045159</td>\n",
       "      <td>-0.015873</td>\n",
       "      <td>1.000000</td>\n",
       "      <td>-0.076382</td>\n",
       "      <td>-0.056437</td>\n",
       "      <td>-0.044482</td>\n",
       "      <td>0.179856</td>\n",
       "    </tr>\n",
       "    <tr>\n",
       "      <th>no_of_loan_counts</th>\n",
       "      <td>-0.116892</td>\n",
       "      <td>0.153935</td>\n",
       "      <td>-0.045412</td>\n",
       "      <td>0.008216</td>\n",
       "      <td>0.066957</td>\n",
       "      <td>0.019173</td>\n",
       "      <td>-0.013370</td>\n",
       "      <td>-0.076382</td>\n",
       "      <td>1.000000</td>\n",
       "      <td>0.311814</td>\n",
       "      <td>-0.020303</td>\n",
       "      <td>-0.089371</td>\n",
       "    </tr>\n",
       "    <tr>\n",
       "      <th>vintage</th>\n",
       "      <td>0.027465</td>\n",
       "      <td>-0.023843</td>\n",
       "      <td>-0.012793</td>\n",
       "      <td>0.013811</td>\n",
       "      <td>0.303715</td>\n",
       "      <td>0.366740</td>\n",
       "      <td>0.456859</td>\n",
       "      <td>-0.056437</td>\n",
       "      <td>0.311814</td>\n",
       "      <td>1.000000</td>\n",
       "      <td>0.811388</td>\n",
       "      <td>0.073876</td>\n",
       "    </tr>\n",
       "    <tr>\n",
       "      <th>recency</th>\n",
       "      <td>0.046291</td>\n",
       "      <td>-0.095229</td>\n",
       "      <td>-0.005412</td>\n",
       "      <td>-0.006693</td>\n",
       "      <td>0.239263</td>\n",
       "      <td>0.373304</td>\n",
       "      <td>0.457806</td>\n",
       "      <td>-0.044482</td>\n",
       "      <td>-0.020303</td>\n",
       "      <td>0.811388</td>\n",
       "      <td>1.000000</td>\n",
       "      <td>0.081075</td>\n",
       "    </tr>\n",
       "    <tr>\n",
       "      <th>Age_new</th>\n",
       "      <td>0.233202</td>\n",
       "      <td>-0.180875</td>\n",
       "      <td>0.109435</td>\n",
       "      <td>0.037902</td>\n",
       "      <td>0.043420</td>\n",
       "      <td>0.018420</td>\n",
       "      <td>0.056086</td>\n",
       "      <td>0.179856</td>\n",
       "      <td>-0.089371</td>\n",
       "      <td>0.073876</td>\n",
       "      <td>0.081075</td>\n",
       "      <td>1.000000</td>\n",
       "    </tr>\n",
       "  </tbody>\n",
       "</table>\n",
       "</div>"
      ],
      "text/plain": [
       "                             tenure  interest_rate  sanctionamount  \\\n",
       "tenure                     1.000000      -0.334216        0.400616   \n",
       "interest_rate             -0.334216       1.000000       -0.164704   \n",
       "sanctionamount             0.400616      -0.164704        1.000000   \n",
       "sum_Disubursement_amt      0.127726      -0.066388        0.435340   \n",
       "overdue_interest           0.078582       0.019229        0.008470   \n",
       "overdue_principal         -0.046124       0.000979       -0.012431   \n",
       "bounce_charges             0.038909       0.027579       -0.005139   \n",
       "principal_Outstanding_amt  0.687137      -0.251295        0.603703   \n",
       "no_of_loan_counts         -0.116892       0.153935       -0.045412   \n",
       "vintage                    0.027465      -0.023843       -0.012793   \n",
       "recency                    0.046291      -0.095229       -0.005412   \n",
       "Age_new                    0.233202      -0.180875        0.109435   \n",
       "\n",
       "                           sum_Disubursement_amt  overdue_interest  \\\n",
       "tenure                                  0.127726          0.078582   \n",
       "interest_rate                          -0.066388          0.019229   \n",
       "sanctionamount                          0.435340          0.008470   \n",
       "sum_Disubursement_amt                   1.000000          0.001000   \n",
       "overdue_interest                        0.001000          1.000000   \n",
       "overdue_principal                      -0.011680          0.632996   \n",
       "bounce_charges                         -0.006384          0.194115   \n",
       "principal_Outstanding_amt               0.193146          0.014478   \n",
       "no_of_loan_counts                       0.008216          0.066957   \n",
       "vintage                                 0.013811          0.303715   \n",
       "recency                                -0.006693          0.239263   \n",
       "Age_new                                 0.037902          0.043420   \n",
       "\n",
       "                           overdue_principal  bounce_charges  \\\n",
       "tenure                             -0.046124        0.038909   \n",
       "interest_rate                       0.000979        0.027579   \n",
       "sanctionamount                     -0.012431       -0.005139   \n",
       "sum_Disubursement_amt              -0.011680       -0.006384   \n",
       "overdue_interest                    0.632996        0.194115   \n",
       "overdue_principal                   1.000000        0.289649   \n",
       "bounce_charges                      0.289649        1.000000   \n",
       "principal_Outstanding_amt          -0.045159       -0.015873   \n",
       "no_of_loan_counts                   0.019173       -0.013370   \n",
       "vintage                             0.366740        0.456859   \n",
       "recency                             0.373304        0.457806   \n",
       "Age_new                             0.018420        0.056086   \n",
       "\n",
       "                           principal_Outstanding_amt  no_of_loan_counts  \\\n",
       "tenure                                      0.687137          -0.116892   \n",
       "interest_rate                              -0.251295           0.153935   \n",
       "sanctionamount                              0.603703          -0.045412   \n",
       "sum_Disubursement_amt                       0.193146           0.008216   \n",
       "overdue_interest                            0.014478           0.066957   \n",
       "overdue_principal                          -0.045159           0.019173   \n",
       "bounce_charges                             -0.015873          -0.013370   \n",
       "principal_Outstanding_amt                   1.000000          -0.076382   \n",
       "no_of_loan_counts                          -0.076382           1.000000   \n",
       "vintage                                    -0.056437           0.311814   \n",
       "recency                                    -0.044482          -0.020303   \n",
       "Age_new                                     0.179856          -0.089371   \n",
       "\n",
       "                            vintage   recency   Age_new  \n",
       "tenure                     0.027465  0.046291  0.233202  \n",
       "interest_rate             -0.023843 -0.095229 -0.180875  \n",
       "sanctionamount            -0.012793 -0.005412  0.109435  \n",
       "sum_Disubursement_amt      0.013811 -0.006693  0.037902  \n",
       "overdue_interest           0.303715  0.239263  0.043420  \n",
       "overdue_principal          0.366740  0.373304  0.018420  \n",
       "bounce_charges             0.456859  0.457806  0.056086  \n",
       "principal_Outstanding_amt -0.056437 -0.044482  0.179856  \n",
       "no_of_loan_counts          0.311814 -0.020303 -0.089371  \n",
       "vintage                    1.000000  0.811388  0.073876  \n",
       "recency                    0.811388  1.000000  0.081075  \n",
       "Age_new                    0.073876  0.081075  1.000000  "
      ]
     },
     "execution_count": 87,
     "metadata": {},
     "output_type": "execute_result"
    }
   ],
   "source": [
    "pd.DataFrame(corrmatrix, columns=num_col, index=num_col)"
   ]
  },
  {
   "cell_type": "code",
   "execution_count": 88,
   "metadata": {},
   "outputs": [
    {
     "data": {
      "text/plain": [
       "['MF_Target',\n",
       " 'tag_cat',\n",
       " 'gender_cat',\n",
       " 'status_cat',\n",
       " 'tenure',\n",
       " 'interest_rate',\n",
       " 'sanctionamount',\n",
       " 'sum_Disubursement_amt',\n",
       " 'overdue_interest',\n",
       " 'overdue_principal',\n",
       " 'bounce_charges',\n",
       " 'principal_Outstanding_amt',\n",
       " 'no_of_loan_counts',\n",
       " 'vintage',\n",
       " 'recency',\n",
       " 'Age_new']"
      ]
     },
     "execution_count": 88,
     "metadata": {},
     "output_type": "execute_result"
    }
   ],
   "source": [
    "dff.columns"
   ]
  },
  {
   "cell_type": "code",
   "execution_count": null,
   "metadata": {},
   "outputs": [],
   "source": []
  },
  {
   "cell_type": "markdown",
   "metadata": {},
   "source": [
    "# Model Building"
   ]
  },
  {
   "cell_type": "markdown",
   "metadata": {},
   "source": [
    "# String indexer & OHE"
   ]
  },
  {
   "cell_type": "code",
   "execution_count": 89,
   "metadata": {},
   "outputs": [],
   "source": [
    "# There are three steps to implement the StringIndexer\n",
    "# Build the StringIndexer model: specify the input column and output column names.\n",
    "# Learn the StringIndexer model: fit the model with your data.\n",
    "# Execute the indexing: call the transform function to execute the indexing process."
   ]
  },
  {
   "cell_type": "code",
   "execution_count": 90,
   "metadata": {},
   "outputs": [],
   "source": [
    "stringIndex = StringIndexer(inputCols=['tag_cat', 'gender_cat','status_cat'], \n",
    "                       outputCols=['tag_cat_SI', 'gender_cat_SI','status_cat_SI'])\n",
    "\n",
    "stringIndex_model = stringIndex.fit(dff)\n",
    "\n",
    "df1_ = stringIndex_model.transform(dff).drop('tag_cat', 'gender_cat','status_cat')"
   ]
  },
  {
   "cell_type": "code",
   "execution_count": 91,
   "metadata": {},
   "outputs": [
    {
     "data": {
      "text/html": [
       "<div>\n",
       "<style scoped>\n",
       "    .dataframe tbody tr th:only-of-type {\n",
       "        vertical-align: middle;\n",
       "    }\n",
       "\n",
       "    .dataframe tbody tr th {\n",
       "        vertical-align: top;\n",
       "    }\n",
       "\n",
       "    .dataframe thead th {\n",
       "        text-align: right;\n",
       "    }\n",
       "</style>\n",
       "<table border=\"1\" class=\"dataframe\">\n",
       "  <thead>\n",
       "    <tr style=\"text-align: right;\">\n",
       "      <th></th>\n",
       "      <th>MF_Target</th>\n",
       "      <th>tenure</th>\n",
       "      <th>interest_rate</th>\n",
       "      <th>sanctionamount</th>\n",
       "      <th>sum_Disubursement_amt</th>\n",
       "      <th>overdue_interest</th>\n",
       "      <th>overdue_principal</th>\n",
       "      <th>bounce_charges</th>\n",
       "      <th>principal_Outstanding_amt</th>\n",
       "      <th>no_of_loan_counts</th>\n",
       "      <th>vintage</th>\n",
       "      <th>recency</th>\n",
       "      <th>Age_new</th>\n",
       "      <th>tag_cat_SI</th>\n",
       "      <th>gender_cat_SI</th>\n",
       "      <th>status_cat_SI</th>\n",
       "    </tr>\n",
       "  </thead>\n",
       "  <tbody>\n",
       "    <tr>\n",
       "      <th>0</th>\n",
       "      <td>0</td>\n",
       "      <td>6.0</td>\n",
       "      <td>38.0</td>\n",
       "      <td>16000.0</td>\n",
       "      <td>16000.0</td>\n",
       "      <td>0.0</td>\n",
       "      <td>0.0</td>\n",
       "      <td>0.0</td>\n",
       "      <td>6002.0</td>\n",
       "      <td>1.0</td>\n",
       "      <td>0.0</td>\n",
       "      <td>0.0</td>\n",
       "      <td>30</td>\n",
       "      <td>0.0</td>\n",
       "      <td>1.0</td>\n",
       "      <td>0.0</td>\n",
       "    </tr>\n",
       "    <tr>\n",
       "      <th>1</th>\n",
       "      <td>0</td>\n",
       "      <td>24.0</td>\n",
       "      <td>18.0</td>\n",
       "      <td>250000.0</td>\n",
       "      <td>500000.0</td>\n",
       "      <td>0.0</td>\n",
       "      <td>0.0</td>\n",
       "      <td>600.0</td>\n",
       "      <td>214282.0</td>\n",
       "      <td>1.0</td>\n",
       "      <td>0.0</td>\n",
       "      <td>0.0</td>\n",
       "      <td>34</td>\n",
       "      <td>0.0</td>\n",
       "      <td>0.0</td>\n",
       "      <td>0.0</td>\n",
       "    </tr>\n",
       "  </tbody>\n",
       "</table>\n",
       "</div>"
      ],
      "text/plain": [
       "   MF_Target  tenure  interest_rate  sanctionamount  sum_Disubursement_amt  \\\n",
       "0          0     6.0           38.0         16000.0                16000.0   \n",
       "1          0    24.0           18.0        250000.0               500000.0   \n",
       "\n",
       "   overdue_interest  overdue_principal  bounce_charges  \\\n",
       "0               0.0                0.0             0.0   \n",
       "1               0.0                0.0           600.0   \n",
       "\n",
       "   principal_Outstanding_amt  no_of_loan_counts  vintage  recency  Age_new  \\\n",
       "0                     6002.0                1.0      0.0      0.0       30   \n",
       "1                   214282.0                1.0      0.0      0.0       34   \n",
       "\n",
       "   tag_cat_SI  gender_cat_SI  status_cat_SI  \n",
       "0         0.0            1.0            0.0  \n",
       "1         0.0            0.0            0.0  "
      ]
     },
     "execution_count": 91,
     "metadata": {},
     "output_type": "execute_result"
    }
   ],
   "source": [
    "df1_.toPandas().head(2)"
   ]
  },
  {
   "cell_type": "code",
   "execution_count": 92,
   "metadata": {},
   "outputs": [
    {
     "data": {
      "text/plain": [
       "[Row(MF_Target=0, tenure=6.0, interest_rate=38.0, sanctionamount=16000.0, sum_Disubursement_amt=16000.0, overdue_interest=0.0, overdue_principal=0.0, bounce_charges=0.0, principal_Outstanding_amt=6002.0, no_of_loan_counts=1.0, vintage=0.0, recency=0.0, Age_new=30, tag_cat_SI=0.0, gender_cat_SI=1.0, status_cat_SI=0.0)]"
      ]
     },
     "execution_count": 92,
     "metadata": {},
     "output_type": "execute_result"
    }
   ],
   "source": [
    "df1_.head(1)"
   ]
  },
  {
   "cell_type": "code",
   "execution_count": 93,
   "metadata": {},
   "outputs": [
    {
     "data": {
      "text/plain": [
       "['MF_Target',\n",
       " 'tenure',\n",
       " 'interest_rate',\n",
       " 'sanctionamount',\n",
       " 'sum_Disubursement_amt',\n",
       " 'overdue_interest',\n",
       " 'overdue_principal',\n",
       " 'bounce_charges',\n",
       " 'principal_Outstanding_amt',\n",
       " 'no_of_loan_counts',\n",
       " 'vintage',\n",
       " 'recency',\n",
       " 'Age_new',\n",
       " 'tag_cat_SI',\n",
       " 'gender_cat_SI',\n",
       " 'status_cat_SI']"
      ]
     },
     "execution_count": 93,
     "metadata": {},
     "output_type": "execute_result"
    }
   ],
   "source": [
    "df1_.columns"
   ]
  },
  {
   "cell_type": "markdown",
   "metadata": {},
   "source": [
    "# VectorAssembler"
   ]
  },
  {
   "cell_type": "code",
   "execution_count": 94,
   "metadata": {},
   "outputs": [],
   "source": [
    "from pyspark.ml.feature import VectorAssembler"
   ]
  },
  {
   "cell_type": "code",
   "execution_count": 95,
   "metadata": {},
   "outputs": [],
   "source": [
    "vec_asmbl = VectorAssembler(inputCols=df1_.columns[1:], outputCol='features')\n",
    "\n",
    "df1_ = vec_asmbl.transform(df1_).select('features', 'MF_Target')"
   ]
  },
  {
   "cell_type": "code",
   "execution_count": 96,
   "metadata": {},
   "outputs": [
    {
     "name": "stdout",
     "output_type": "stream",
     "text": [
      "+-------------------------------------------------------------------------------+---------+\n",
      "|features                                                                       |MF_Target|\n",
      "+-------------------------------------------------------------------------------+---------+\n",
      "|(15,[0,1,2,3,7,8,11,13],[6.0,38.0,16000.0,16000.0,6002.0,1.0,30.0,1.0])        |0        |\n",
      "|(15,[0,1,2,3,6,7,8,11],[24.0,18.0,250000.0,500000.0,600.0,214282.0,1.0,34.0])  |0        |\n",
      "|[6.0,36.0,10000.0,10000.0,355.0,3337.0,0.0,6738.0,1.0,0.0,0.0,35.0,0.0,0.0,0.0]|0        |\n",
      "|(15,[0,1,2,3,7,8,11],[18.0,23.0,200000.0,400000.0,171226.0,1.0,29.0])          |0        |\n",
      "+-------------------------------------------------------------------------------+---------+\n",
      "only showing top 4 rows\n",
      "\n"
     ]
    }
   ],
   "source": [
    "df1_.show(4, truncate=False)"
   ]
  },
  {
   "cell_type": "markdown",
   "metadata": {},
   "source": [
    "# Train Test OOT data"
   ]
  },
  {
   "cell_type": "code",
   "execution_count": 97,
   "metadata": {},
   "outputs": [
    {
     "data": {
      "text/plain": [
       "214954"
      ]
     },
     "execution_count": 97,
     "metadata": {},
     "output_type": "execute_result"
    }
   ],
   "source": [
    "df1_.count()"
   ]
  },
  {
   "cell_type": "code",
   "execution_count": 98,
   "metadata": {},
   "outputs": [],
   "source": [
    "train_df,test_df, valid_df = df1_.randomSplit([0.7,.15,.15],seed = 123)  \n",
    "##if i dont put seed then har time sample change hoga"
   ]
  },
  {
   "cell_type": "code",
   "execution_count": 99,
   "metadata": {},
   "outputs": [
    {
     "data": {
      "text/plain": [
       "(150823, 32199, 31932)"
      ]
     },
     "execution_count": 99,
     "metadata": {},
     "output_type": "execute_result"
    }
   ],
   "source": [
    "train_df.count(),test_df.count(),valid_df.count()"
   ]
  },
  {
   "cell_type": "code",
   "execution_count": 100,
   "metadata": {},
   "outputs": [
    {
     "name": "stdout",
     "output_type": "stream",
     "text": [
      "+---------+------+-----------------+\n",
      "|MF_Target| count|     team_percent|\n",
      "+---------+------+-----------------+\n",
      "|        0|142642|94.57576099136074|\n",
      "|        1|  8181|5.424239008639266|\n",
      "+---------+------+-----------------+\n",
      "\n",
      "+---------+-----+------------------+\n",
      "|MF_Target|count|      team_percent|\n",
      "+---------+-----+------------------+\n",
      "|        0|30473| 94.63958508028199|\n",
      "|        1| 1726|5.3604149197180035|\n",
      "+---------+-----+------------------+\n",
      "\n",
      "+---------+-----+-----------------+\n",
      "|MF_Target|count|     team_percent|\n",
      "+---------+-----+-----------------+\n",
      "|        0|30176|94.50081423023926|\n",
      "|        1| 1756|5.499185769760741|\n",
      "+---------+-----+-----------------+\n",
      "\n"
     ]
    }
   ],
   "source": [
    "train_df.groupBy('MF_Target').count().withColumn('team_percent', (col('count')/train_df.count())*100).show()\n",
    "test_df.groupBy('MF_Target').count().withColumn('team_percent', (col('count')/test_df.count())*100).show()\n",
    "valid_df.groupBy('MF_Target').count().withColumn('team_percent', (col('count')/valid_df.count())*100).show()"
   ]
  },
  {
   "cell_type": "code",
   "execution_count": 101,
   "metadata": {},
   "outputs": [
    {
     "name": "stdout",
     "output_type": "stream",
     "text": [
      "+-----------------------------------------------------------------------+---------+\n",
      "|features                                                               |MF_Target|\n",
      "+-----------------------------------------------------------------------+---------+\n",
      "|(15,[0,1,2,3,4,7,8,11],[6.0,36.0,10000.0,20000.0,1.0,3685.0,1.0,22.0]) |0        |\n",
      "|(15,[0,1,2,3,4,7,8,11],[12.0,36.0,9028.0,18056.0,0.06,5772.0,1.0,23.0])|0        |\n",
      "|(15,[0,1,2,3,5,7,8,11],[1.0,26.0,5998.0,5998.0,96.0,96.0,1.0,23.0])    |0        |\n",
      "|(15,[0,1,2,3,5,7,8,11],[1.0,26.0,6527.0,6527.0,84.0,84.0,1.0,21.0])    |0        |\n",
      "+-----------------------------------------------------------------------+---------+\n",
      "only showing top 4 rows\n",
      "\n"
     ]
    }
   ],
   "source": [
    "train_df.show(4, truncate=False)"
   ]
  },
  {
   "cell_type": "code",
   "execution_count": null,
   "metadata": {},
   "outputs": [],
   "source": []
  },
  {
   "cell_type": "code",
   "execution_count": null,
   "metadata": {},
   "outputs": [],
   "source": []
  },
  {
   "cell_type": "markdown",
   "metadata": {},
   "source": [
    "# Random Forest"
   ]
  },
  {
   "cell_type": "code",
   "execution_count": 102,
   "metadata": {},
   "outputs": [],
   "source": [
    "rf = RandomForestClassifier(featuresCol='features', labelCol='MF_Target',maxDepth = 3, numTrees=20,seed = 123)\n",
    "model = rf.fit(train_df)\n",
    "\n",
    "train_pred = model.transform(train_df)\n",
    "test_pred = model.transform(test_df)\n",
    "oot_pred = model.transform(valid_df)\n",
    "\n",
    "# Here featuresCol is the list of features of the Data Frame, here in our case it is the features column. \n",
    "# labelCol is the targeted feature which is labelIndex. \n",
    "# rf.fit(train) fits the random forest model to our input dataset named train. \n",
    "# rfModel.transform(test) transforms the test dataset.\n",
    "# This will add new columns to the Data Frame such as prediction, rawPrediction, and probability."
   ]
  },
  {
   "cell_type": "code",
   "execution_count": 103,
   "metadata": {},
   "outputs": [
    {
     "name": "stdout",
     "output_type": "stream",
     "text": [
      "+--------------------+---------+--------------------+--------------------+----------+\n",
      "|            features|MF_Target|       rawPrediction|         probability|prediction|\n",
      "+--------------------+---------+--------------------+--------------------+----------+\n",
      "|(15,[0,1,2,3,4,7,...|        0|[19.5108372516474...|[0.97554186258237...|       0.0|\n",
      "|(15,[0,1,2,3,4,7,...|        0|[19.4502486005393...|[0.97251243002696...|       0.0|\n",
      "+--------------------+---------+--------------------+--------------------+----------+\n",
      "only showing top 2 rows\n",
      "\n",
      "+--------------------+---------+--------------------+--------------------+----------+\n",
      "|            features|MF_Target|       rawPrediction|         probability|prediction|\n",
      "+--------------------+---------+--------------------+--------------------+----------+\n",
      "|(15,[0,1,2,3,5,7,...|        0|[19.5276018208957...|[0.97638009104478...|       0.0|\n",
      "|(15,[0,1,2,3,5,7,...|        0|[19.5276018208957...|[0.97638009104478...|       0.0|\n",
      "+--------------------+---------+--------------------+--------------------+----------+\n",
      "only showing top 2 rows\n",
      "\n",
      "+--------------------+---------+--------------------+--------------------+----------+\n",
      "|            features|MF_Target|       rawPrediction|         probability|prediction|\n",
      "+--------------------+---------+--------------------+--------------------+----------+\n",
      "|(15,[0,1,2,3,5,7,...|        0|[19.5276018208957...|[0.97638009104478...|       0.0|\n",
      "|(15,[0,1,2,3,5,7,...|        0|[19.5276018208957...|[0.97638009104478...|       0.0|\n",
      "+--------------------+---------+--------------------+--------------------+----------+\n",
      "only showing top 2 rows\n",
      "\n"
     ]
    }
   ],
   "source": [
    "train_pred.show(2)\n",
    "test_pred.show(2)\n",
    "oot_pred.show(2)"
   ]
  },
  {
   "cell_type": "code",
   "execution_count": 104,
   "metadata": {},
   "outputs": [
    {
     "name": "stdout",
     "output_type": "stream",
     "text": [
      "+---------+----------+\n",
      "|MF_Target|prediction|\n",
      "+---------+----------+\n",
      "|        0|       0.0|\n",
      "|        0|       0.0|\n",
      "|        0|       0.0|\n",
      "|        0|       0.0|\n",
      "|        0|       0.0|\n",
      "|        0|       0.0|\n",
      "|        0|       0.0|\n",
      "|        0|       0.0|\n",
      "|        0|       0.0|\n",
      "|        0|       0.0|\n",
      "+---------+----------+\n",
      "only showing top 10 rows\n",
      "\n"
     ]
    }
   ],
   "source": [
    "train_pred.select(\"MF_Target\", \"prediction\").show(10)"
   ]
  },
  {
   "cell_type": "code",
   "execution_count": 105,
   "metadata": {},
   "outputs": [
    {
     "data": {
      "text/plain": [
       "0.9458040219329943"
      ]
     },
     "execution_count": 105,
     "metadata": {},
     "output_type": "execute_result"
    }
   ],
   "source": [
    "from pyspark.ml.evaluation import MulticlassClassificationEvaluator\n",
    "evaluator = MulticlassClassificationEvaluator(labelCol='MF_Target', metricName='accuracy')\n",
    "evaluator.evaluate(train_pred)"
   ]
  },
  {
   "cell_type": "code",
   "execution_count": 106,
   "metadata": {},
   "outputs": [
    {
     "data": {
      "text/plain": [
       "0.9130469089308786"
      ]
     },
     "execution_count": 106,
     "metadata": {},
     "output_type": "execute_result"
    }
   ],
   "source": [
    "metrc = BinaryClassificationEvaluator(labelCol='MF_Target')\n",
    "metrc.evaluate(train_pred,{metrc.metricName : 'areaUnderROC'})"
   ]
  },
  {
   "cell_type": "code",
   "execution_count": 107,
   "metadata": {},
   "outputs": [
    {
     "data": {
      "text/plain": [
       "0.9130469089308786"
      ]
     },
     "execution_count": 107,
     "metadata": {},
     "output_type": "execute_result"
    }
   ],
   "source": [
    "metrc = BinaryClassificationEvaluator(labelCol='MF_Target')\n",
    "metrc.evaluate(train_pred)"
   ]
  },
  {
   "cell_type": "code",
   "execution_count": 108,
   "metadata": {},
   "outputs": [
    {
     "data": {
      "text/plain": [
       "0.9228606776456442"
      ]
     },
     "execution_count": 108,
     "metadata": {},
     "output_type": "execute_result"
    }
   ],
   "source": [
    "metrc = BinaryClassificationEvaluator(labelCol='MF_Target')\n",
    "metrc.evaluate(test_pred)"
   ]
  },
  {
   "cell_type": "code",
   "execution_count": 109,
   "metadata": {},
   "outputs": [
    {
     "data": {
      "text/plain": [
       "0.9172885057623976"
      ]
     },
     "execution_count": 109,
     "metadata": {},
     "output_type": "execute_result"
    }
   ],
   "source": [
    "metrc = BinaryClassificationEvaluator(labelCol='MF_Target')\n",
    "metrc.evaluate(oot_pred)"
   ]
  },
  {
   "cell_type": "code",
   "execution_count": 110,
   "metadata": {},
   "outputs": [
    {
     "data": {
      "text/plain": [
       "SparseVector(15, {0: 0.2078, 1: 0.1659, 2: 0.0565, 3: 0.024, 4: 0.1015, 5: 0.0784, 7: 0.038, 9: 0.002, 10: 0.0018, 12: 0.3239})"
      ]
     },
     "execution_count": 110,
     "metadata": {},
     "output_type": "execute_result"
    }
   ],
   "source": [
    "model.featureImportances"
   ]
  },
  {
   "cell_type": "code",
   "execution_count": 111,
   "metadata": {},
   "outputs": [],
   "source": [
    "# 'tenure',\n",
    "#  'interest_rate',\n",
    "#  'sanctionamount',\n",
    "#  'sum_Disubursement_amt',\n",
    "#  'overdue_interest',\n",
    "#  'overdue_principal',\n",
    "#  'bounce_charges',\n",
    "#  'principal_Outstanding_amt',\n",
    "#  'no_of_loan_counts',\n",
    "#  'vintage',\n",
    "#  'recency',\n",
    "#  'Age_new',\n",
    "#  'tag_cat_SI',\n",
    "#  'gender_cat_SI',\n",
    "#  'status_cat_SI'"
   ]
  },
  {
   "cell_type": "code",
   "execution_count": null,
   "metadata": {},
   "outputs": [],
   "source": []
  },
  {
   "cell_type": "code",
   "execution_count": 112,
   "metadata": {},
   "outputs": [
    {
     "name": "stdout",
     "output_type": "stream",
     "text": [
      "+----------+------+----+\n",
      "|prediction|     0|   1|\n",
      "+----------+------+----+\n",
      "|       0.0|142642|8174|\n",
      "|       1.0|  NULL|   7|\n",
      "+----------+------+----+\n",
      "\n"
     ]
    }
   ],
   "source": [
    "train_pred.groupBy('prediction').pivot('MF_Target').count().show()"
   ]
  },
  {
   "cell_type": "code",
   "execution_count": 113,
   "metadata": {},
   "outputs": [
    {
     "name": "stdout",
     "output_type": "stream",
     "text": [
      "+----------+-----+----+\n",
      "|prediction|    0|   1|\n",
      "+----------+-----+----+\n",
      "|       0.0|30473|1724|\n",
      "|       1.0| NULL|   2|\n",
      "+----------+-----+----+\n",
      "\n"
     ]
    }
   ],
   "source": [
    "test_pred.groupBy('prediction').pivot('MF_Target').count().show()"
   ]
  },
  {
   "cell_type": "code",
   "execution_count": 114,
   "metadata": {},
   "outputs": [
    {
     "name": "stdout",
     "output_type": "stream",
     "text": [
      "+----------+-----+----+\n",
      "|prediction|    0|   1|\n",
      "+----------+-----+----+\n",
      "|       0.0|30176|1755|\n",
      "|       1.0| NULL|   1|\n",
      "+----------+-----+----+\n",
      "\n"
     ]
    }
   ],
   "source": [
    "oot_pred.groupBy('prediction').pivot('MF_Target').count().show()"
   ]
  },
  {
   "cell_type": "code",
   "execution_count": null,
   "metadata": {},
   "outputs": [],
   "source": []
  },
  {
   "cell_type": "code",
   "execution_count": null,
   "metadata": {},
   "outputs": [],
   "source": []
  },
  {
   "cell_type": "markdown",
   "metadata": {},
   "source": [
    "# GBT classifier"
   ]
  },
  {
   "cell_type": "code",
   "execution_count": 140,
   "metadata": {},
   "outputs": [],
   "source": [
    "gb = GBTClassifier(labelCol='MF_Target', maxIter=75, maxDepth=3,stepSize = 0.6)\n",
    "\n",
    "model = gb.fit(train_df)\n",
    "\n",
    "train_pred = model.transform(train_df)\n",
    "test_pred = model.transform(test_df)\n",
    "oot_pred = model.transform(valid_df)\n"
   ]
  },
  {
   "cell_type": "code",
   "execution_count": 141,
   "metadata": {},
   "outputs": [
    {
     "data": {
      "text/plain": [
       "0.9729550532743679"
      ]
     },
     "execution_count": 141,
     "metadata": {},
     "output_type": "execute_result"
    }
   ],
   "source": [
    "from pyspark.ml.evaluation import MulticlassClassificationEvaluator\n",
    "evaluator = MulticlassClassificationEvaluator(labelCol='MF_Target', metricName='accuracy')\n",
    "evaluator.evaluate(train_pred)"
   ]
  },
  {
   "cell_type": "code",
   "execution_count": 142,
   "metadata": {},
   "outputs": [
    {
     "data": {
      "text/plain": [
       "0.9523711659765719"
      ]
     },
     "execution_count": 142,
     "metadata": {},
     "output_type": "execute_result"
    }
   ],
   "source": [
    "metrc = BinaryClassificationEvaluator(labelCol='MF_Target')\n",
    "metrc.evaluate(train_pred,{metrc.metricName : 'areaUnderROC'})"
   ]
  },
  {
   "cell_type": "code",
   "execution_count": 143,
   "metadata": {},
   "outputs": [
    {
     "data": {
      "text/plain": [
       "0.9523705104238525"
      ]
     },
     "execution_count": 143,
     "metadata": {},
     "output_type": "execute_result"
    }
   ],
   "source": [
    "metrc = BinaryClassificationEvaluator(labelCol='MF_Target')\n",
    "metrc.evaluate(train_pred)"
   ]
  },
  {
   "cell_type": "code",
   "execution_count": 144,
   "metadata": {},
   "outputs": [
    {
     "data": {
      "text/plain": [
       "0.9551413292598481"
      ]
     },
     "execution_count": 144,
     "metadata": {},
     "output_type": "execute_result"
    }
   ],
   "source": [
    "metrc = BinaryClassificationEvaluator(labelCol='MF_Target')\n",
    "metrc.evaluate(test_pred)"
   ]
  },
  {
   "cell_type": "code",
   "execution_count": 145,
   "metadata": {},
   "outputs": [
    {
     "data": {
      "text/plain": [
       "0.9526218583701517"
      ]
     },
     "execution_count": 145,
     "metadata": {},
     "output_type": "execute_result"
    }
   ],
   "source": [
    "metrc = BinaryClassificationEvaluator(labelCol='MF_Target')\n",
    "metrc.evaluate(oot_pred)"
   ]
  },
  {
   "cell_type": "code",
   "execution_count": 146,
   "metadata": {},
   "outputs": [
    {
     "data": {
      "text/plain": [
       "SparseVector(15, {0: 0.235, 1: 0.2204, 2: 0.0355, 3: 0.0175, 4: 0.0867, 5: 0.0137, 6: 0.0026, 7: 0.0356, 8: 0.0025, 9: 0.022, 10: 0.0012, 11: 0.0163, 12: 0.3105, 13: 0.0005, 14: 0.0001})"
      ]
     },
     "execution_count": 146,
     "metadata": {},
     "output_type": "execute_result"
    }
   ],
   "source": [
    "model.featureImportances"
   ]
  },
  {
   "cell_type": "code",
   "execution_count": 147,
   "metadata": {},
   "outputs": [],
   "source": [
    "# 'tenure',\n",
    "#  'interest_rate',\n",
    "#  'sanctionamount',\n",
    "#  'sum_Disubursement_amt',\n",
    "#  'overdue_interest',\n",
    "#  'overdue_principal',\n",
    "#  'bounce_charges',\n",
    "#  'principal_Outstanding_amt',\n",
    "#  'no_of_loan_counts',\n",
    "#  'vintage',\n",
    "#  'recency',\n",
    "#  'Age_new',\n",
    "#  'tag_cat_SI',\n",
    "#  'gender_cat_SI',\n",
    "#  'status_cat_SI'"
   ]
  },
  {
   "cell_type": "code",
   "execution_count": null,
   "metadata": {},
   "outputs": [],
   "source": []
  },
  {
   "cell_type": "code",
   "execution_count": 148,
   "metadata": {},
   "outputs": [
    {
     "name": "stdout",
     "output_type": "stream",
     "text": [
      "+----------+------+----+\n",
      "|prediction|     0|   1|\n",
      "+----------+------+----+\n",
      "|       0.0|141708|3145|\n",
      "|       1.0|   934|5036|\n",
      "+----------+------+----+\n",
      "\n"
     ]
    }
   ],
   "source": [
    "train_pred.groupBy('prediction').pivot('MF_Target').count().show()"
   ]
  },
  {
   "cell_type": "code",
   "execution_count": 149,
   "metadata": {},
   "outputs": [
    {
     "name": "stdout",
     "output_type": "stream",
     "text": [
      "+----------+-----+----+\n",
      "|prediction|    0|   1|\n",
      "+----------+-----+----+\n",
      "|       0.0|30285| 656|\n",
      "|       1.0|  188|1070|\n",
      "+----------+-----+----+\n",
      "\n"
     ]
    }
   ],
   "source": [
    "test_pred.groupBy('prediction').pivot('MF_Target').count().show()"
   ]
  },
  {
   "cell_type": "code",
   "execution_count": 150,
   "metadata": {},
   "outputs": [
    {
     "name": "stdout",
     "output_type": "stream",
     "text": [
      "+----------+-----+----+\n",
      "|prediction|    0|   1|\n",
      "+----------+-----+----+\n",
      "|       0.0|29982| 667|\n",
      "|       1.0|  194|1089|\n",
      "+----------+-----+----+\n",
      "\n"
     ]
    }
   ],
   "source": [
    "oot_pred.groupBy('prediction').pivot('MF_Target').count().show()"
   ]
  },
  {
   "cell_type": "code",
   "execution_count": 151,
   "metadata": {},
   "outputs": [
    {
     "data": {
      "text/plain": [
       "'\\nRecall = TP/ (TP+FN)\\nPrecision = TP/ (TP+FP)\\n'"
      ]
     },
     "execution_count": 151,
     "metadata": {},
     "output_type": "execute_result"
    }
   ],
   "source": [
    "'''\n",
    "Recall = TP/ (TP+FN)\n",
    "Precision = TP/ (TP+FP)\n",
    "'''"
   ]
  },
  {
   "cell_type": "code",
   "execution_count": 156,
   "metadata": {},
   "outputs": [],
   "source": [
    "RTRAIN = 5036/ (5036+3145)\n",
    "PTRAIN = 5036/ (5036+934)"
   ]
  },
  {
   "cell_type": "code",
   "execution_count": 157,
   "metadata": {},
   "outputs": [
    {
     "data": {
      "text/plain": [
       "0.6155726683779489"
      ]
     },
     "execution_count": 157,
     "metadata": {},
     "output_type": "execute_result"
    }
   ],
   "source": [
    "RTRAIN"
   ]
  },
  {
   "cell_type": "code",
   "execution_count": 158,
   "metadata": {},
   "outputs": [
    {
     "data": {
      "text/plain": [
       "0.8435510887772194"
      ]
     },
     "execution_count": 158,
     "metadata": {},
     "output_type": "execute_result"
    }
   ],
   "source": [
    "PTRAIN"
   ]
  },
  {
   "cell_type": "code",
   "execution_count": null,
   "metadata": {},
   "outputs": [],
   "source": []
  },
  {
   "cell_type": "code",
   "execution_count": 159,
   "metadata": {},
   "outputs": [],
   "source": [
    "RTEST = 1070/ (1070+656)\n",
    "PTEST = 1070/ (1070+188)"
   ]
  },
  {
   "cell_type": "code",
   "execution_count": 160,
   "metadata": {},
   "outputs": [
    {
     "data": {
      "text/plain": [
       "0.6199304750869061"
      ]
     },
     "execution_count": 160,
     "metadata": {},
     "output_type": "execute_result"
    }
   ],
   "source": [
    "RTEST"
   ]
  },
  {
   "cell_type": "code",
   "execution_count": 161,
   "metadata": {},
   "outputs": [
    {
     "data": {
      "text/plain": [
       "0.8505564387917329"
      ]
     },
     "execution_count": 161,
     "metadata": {},
     "output_type": "execute_result"
    }
   ],
   "source": [
    "PTEST"
   ]
  },
  {
   "cell_type": "code",
   "execution_count": null,
   "metadata": {},
   "outputs": [],
   "source": []
  },
  {
   "cell_type": "code",
   "execution_count": 162,
   "metadata": {},
   "outputs": [],
   "source": [
    "ROOT = 1089/ (1089+667)\n",
    "POOT = 1089/ (1089+194)"
   ]
  },
  {
   "cell_type": "code",
   "execution_count": 163,
   "metadata": {},
   "outputs": [
    {
     "data": {
      "text/plain": [
       "0.6201594533029613"
      ]
     },
     "execution_count": 163,
     "metadata": {},
     "output_type": "execute_result"
    }
   ],
   "source": [
    "ROOT"
   ]
  },
  {
   "cell_type": "code",
   "execution_count": 164,
   "metadata": {},
   "outputs": [
    {
     "data": {
      "text/plain": [
       "0.8487918939984411"
      ]
     },
     "execution_count": 164,
     "metadata": {},
     "output_type": "execute_result"
    }
   ],
   "source": [
    "POOT"
   ]
  },
  {
   "cell_type": "code",
   "execution_count": null,
   "metadata": {},
   "outputs": [],
   "source": []
  }
 ],
 "metadata": {
  "kernelspec": {
   "display_name": "Python 3",
   "language": "python",
   "name": "python3"
  },
  "language_info": {
   "codemirror_mode": {
    "name": "ipython",
    "version": 3
   },
   "file_extension": ".py",
   "mimetype": "text/x-python",
   "name": "python",
   "nbconvert_exporter": "python",
   "pygments_lexer": "ipython3",
   "version": "3.8.5"
  }
 },
 "nbformat": 4,
 "nbformat_minor": 4
}
